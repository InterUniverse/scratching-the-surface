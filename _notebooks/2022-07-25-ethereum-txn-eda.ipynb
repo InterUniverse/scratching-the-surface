{
 "cells": [
  {
   "cell_type": "markdown",
   "id": "34d296e6-1923-4f06-998b-1c46a9c88f1e",
   "metadata": {},
   "source": [
    "# \"Ethereum Transactions Exploratory Data Analysis\"\n",
    "\n",
    "> \"My first attempt at analyzing Ethereum transactions. Only scratching the surface!\"\n",
    "\n",
    "- toc:true\n",
    "- branch: master\n",
    "- badges: true\n",
    "- comments: true\n",
    "- image: images/ethereum-txn-eda.png\n",
    "- author: Corey"
   ]
  },
  {
   "cell_type": "markdown",
   "id": "8206abbb-9624-4f53-8a05-20ca1f9e6d26",
   "metadata": {
    "tags": []
   },
   "source": [
    "## Summary\n",
    "- Looking at the number of Ethereum transactions from 1 to 7 July 2022, there was a **14% drop** on 6 July 2022 compared to 6 July 2021,**Year-Over-Year**. (See [chart 2](https://interuniverse.github.io/scratching-the-surface/2022/07/25/ethereum-txn-eda.html#Chart-2:-Ethereum-Year-Over-Year-Transactions)).\n",
    "\n",
    "- Focussing on 6 July 2022, of the top 50 addresses with the most transactions, we can see 3 categories of addresses: **miners**, **crypto exchanges** and **no label** (See [chart 4](https://interuniverse.github.io/scratching-the-surface/2022/07/25/ethereum-txn-eda.html#Chart-4:-Year-Over-Year-by-Address-Names-6-July-2022-vs-6-July-2021)).  \n",
    "\"No label\" are user(s) or organization(s) where based on their addresses, the name/label unidentified in [etherscan](https://etherscan.io/).\n",
    "  \n",
    "- Although there was a **14% drop** in number of transactions on 6 July 2022, there was an **increase** of almost 9% in the number of ETH per transaction. (See [table](https://interuniverse.github.io/scratching-the-surface/2022/07/25/ethereum-txn-eda.html#Table:-Total-transactions,-value-in-ETH-and-ETH-per-transaction))  \n",
    "ETH is the crypto currency used for payment on the Ethereum network ([more explanation here](https://ethereum.org/en/developers/docs/intro-to-ether/#what-is-ether)).\n",
    "  - This could be due to the **lower price of ETH on 6 July 2022**.  \n",
    "    The closing price of ETH on 6 July 2022 was about **USD$1,186 (AUD$1,744)** while on 6 July 2021, about **USD$2,323 (AUD$3,097)**.  \n",
    "    (Historical prices from [Messari](https://messari.io/asset/ethereum/historical).)\n",
    "  \n",
    "  - Also, this seems to be the case when we examine a longer period, see *\"ETH Per Transaction 2022 vs 2021 Last 3 Months\"*, the 3rd chart in my [Dune](https://dune.com/interuniverse/ethereum-transactions-overview) dashboard.\n",
    "    - On 13 June 2022, ETH per transaction was almost **7** compared to 13 June 2021, which was at **1**.  \n",
    "      The closing price of ETH on 13 June 2022, was at **USD$1,208 (AUD$1,726)** while on 13 June 2021, was at **USD$2,509 (AUD$3,258)**."
   ]
  },
  {
   "cell_type": "markdown",
   "id": "07d57c6c-2941-411d-bd83-88bf05d69306",
   "metadata": {},
   "source": [
    "## Next steps\n",
    "- There are 2 types of Ethereum accounts:  \n",
    "**Externally owned** (controlled by anyone with private keys) vs **Contract** (smart contract).\n",
    "  \n",
    "- What would transactions/value of ETH look like for them as we approach [The Merge](https://ethereum.org/en/upgrades/merge/#main-content)?"
   ]
  },
  {
   "cell_type": "markdown",
   "id": "e7296a1e-af88-4edf-8773-812aa3d0e2d6",
   "metadata": {
    "tags": []
   },
   "source": [
    "## The details (for the technically minded)\n",
    "Load the libraries  \n",
    "[Go to top](https://interuniverse.github.io/scratching-the-surface/2022/07/25/ethereum-txn-eda.html)"
   ]
  },
  {
   "cell_type": "code",
   "execution_count": 2,
   "id": "42be4792-70d7-40a4-a8fe-102e9576f29d",
   "metadata": {
    "tags": []
   },
   "outputs": [],
   "source": [
    "#collapse\n",
    "import os\n",
    "import json\n",
    "\n",
    "import pandas as pd\n",
    "import numpy as np\n",
    "import altair as alt"
   ]
  },
  {
   "cell_type": "code",
   "execution_count": 3,
   "id": "6a45031b-ed85-4053-872d-28846e176165",
   "metadata": {},
   "outputs": [],
   "source": [
    "#collapse\n",
    "# Set dataframe display behaviours \n",
    "pd.set_option('display.max_columns', 100, 'display.max_rows', 100, 'display.max_colwidth', 100, 'display.float_format', '{:.4f}'.format)"
   ]
  },
  {
   "cell_type": "markdown",
   "id": "cec3f558-e3f9-4882-ab7f-1c95c52f8ade",
   "metadata": {
    "tags": []
   },
   "source": [
    "Read the data files\n",
    "- Details of the data extraction using the Alchemy API into JSON format are not shown here. (If interested in the steps, please let me know).\n",
    "- In below file directory, the JSON format files were already formatted into Pandas dataframe and saved as separate parquet files based on block numbers."
   ]
  },
  {
   "cell_type": "markdown",
   "id": "1dd6e13e-50a0-474a-adf4-34678cc0edee",
   "metadata": {},
   "source": [
    "Dataset 1: Ethereum transactions\n",
    "- Due to memory and storage limitation of the Jupyter free instance on the cloud, only raw transactions from 1 July 2022 to 7 July 2022 and 6 July 2021 were extracted from the API of a remote node provider (Alchemy)."
   ]
  },
  {
   "cell_type": "code",
   "execution_count": 4,
   "id": "d176a249-e24f-42bd-b2f3-6a376cefc3e0",
   "metadata": {},
   "outputs": [],
   "source": [
    "#collapse\n",
    "PATH = '../data/'\n",
    "file_dir = os.listdir(PATH)\n",
    "file_list = [os.path.join(PATH, file) for file in file_dir if file.startswith('df_')]"
   ]
  },
  {
   "cell_type": "code",
   "execution_count": 5,
   "id": "634f96f0-d282-41cc-8ac9-850cece4fbbe",
   "metadata": {},
   "outputs": [
    {
     "data": {
      "text/plain": [
       "['../data/df_eth_txns_15063949_15052950.parquet',\n",
       " '../data/df_eth_txns_15074950_15063950.parquet',\n",
       " '../data/df_eth_txns_15081957_15074951.parquet',\n",
       " '../data/df_eth_txns_15098961_15081958.parquet',\n",
       " '../data/df_eth_txns_12777014_12770590.parquet',\n",
       " '../data/df_missing_eth_txns_20220704_20220705.parquet']"
      ]
     },
     "execution_count": 5,
     "metadata": {},
     "output_type": "execute_result"
    }
   ],
   "source": [
    "file_list"
   ]
  },
  {
   "cell_type": "markdown",
   "id": "d6d43014-b4c7-48c1-9974-3cc16bfb1a55",
   "metadata": {},
   "source": [
    "In order to work within the memory (RAM) limit, the files are read one by one and appended to a single dataframe. "
   ]
  },
  {
   "cell_type": "code",
   "execution_count": 6,
   "id": "8275eba4-e03b-4455-9fad-9713f9cfa26e",
   "metadata": {},
   "outputs": [],
   "source": [
    "df = pd.concat([pd.read_parquet(file) for file in file_list])"
   ]
  },
  {
   "cell_type": "markdown",
   "id": "31eae40a-b22d-4946-9969-9132689b754e",
   "metadata": {},
   "source": [
    "Format data types and add new column"
   ]
  },
  {
   "cell_type": "markdown",
   "id": "f00032ab-b487-42a9-b40d-257b26265e6d",
   "metadata": {},
   "source": [
    "Convert `type` to categorical data type"
   ]
  },
  {
   "cell_type": "code",
   "execution_count": 7,
   "id": "0cb507f5-1790-4b23-995d-930497107f6d",
   "metadata": {},
   "outputs": [],
   "source": [
    "df['type'] = df['type'].astype('category')"
   ]
  },
  {
   "cell_type": "markdown",
   "id": "aff1e7f6-f06e-4d7f-8140-90886937b2ce",
   "metadata": {
    "tags": []
   },
   "source": [
    "Add `eth_value` column\n",
    "Convert the `value` field which by default is in Wei (the smallest unit of Ether) to Ether.  \n",
    "1 ETH = 10^18 Wei  \n",
    "1 ETH = 10^9 Gwei  \n",
    "Reference: https://gwei.io/"
   ]
  },
  {
   "cell_type": "code",
   "execution_count": 8,
   "id": "dae296d8-d28a-48b0-9565-8c15841eff61",
   "metadata": {},
   "outputs": [],
   "source": [
    "df['eth_value'] = df['value'].div(10**18)"
   ]
  },
  {
   "cell_type": "markdown",
   "id": "8743bb61-dd22-4254-ac1f-1497a2d2b387",
   "metadata": {},
   "source": [
    "Dataset 2: Aggregated transaction counts\n",
    "- This dataset is a total count of transactions per day rather than raw transactions (a dataset where each row is a transaction like above).\n",
    "- The data is also extracted using Alchemy's API.\n",
    "- Due to memory (RAM) limitation on this Jupyter instance, this dataset allows the analysis of transaction counts for selected dates in July 2021 and compare it to July 2022."
   ]
  },
  {
   "cell_type": "code",
   "execution_count": 9,
   "id": "dfc114df-9210-4867-804f-accc5e83da48",
   "metadata": {},
   "outputs": [],
   "source": [
    "block_txn = json.load(open('../data/raw/block_txn_counts.json'))\n",
    "df_txn_raw = pd.DataFrame(block_txn)\n",
    "df_txn = df_txn_raw.copy()"
   ]
  },
  {
   "cell_type": "markdown",
   "id": "06497945-f475-46e9-87e4-b5b8f505bcc0",
   "metadata": {},
   "source": [
    "Convert `block_timestamp` to datetime and create `block_date` field"
   ]
  },
  {
   "cell_type": "code",
   "execution_count": 10,
   "id": "5a5bc439-ba73-4620-adc9-d8dfd094972e",
   "metadata": {},
   "outputs": [],
   "source": [
    "df_txn['block_timestamp'] = df_txn['block_timestamp'].astype('datetime64[s]')\n",
    "df_txn['block_date'] = df_txn['block_timestamp'].astype('datetime64[D]')"
   ]
  },
  {
   "cell_type": "markdown",
   "id": "8e7e5b8a-8ba1-4005-b03a-70efadb0dea3",
   "metadata": {},
   "source": [
    "Dataset 3: Address names (labels)\n",
    "- The dataset contains corresponding name (label) of the address of a sender. \n",
    "- The name (label) of addresses were manually sourced from https://etherscan.io/ and saved as a Pandas dataframe.\n",
    "- The names are not an exhaustive list and selected based on the need of the analysis below."
   ]
  },
  {
   "cell_type": "code",
   "execution_count": 11,
   "id": "8b163ecc-bfac-4e64-a5d0-949b433c7524",
   "metadata": {},
   "outputs": [],
   "source": [
    "df_labels = pd.read_parquet(f'{PATH}address_labels.parquet')"
   ]
  },
  {
   "cell_type": "markdown",
   "id": "a36d8203-fbd1-4f75-a65b-5104409a79d9",
   "metadata": {
    "tags": []
   },
   "source": [
    "Inspect dataset 1: Ethereum transactions\n",
    "- Due to memory and storage limitation of the Jupyter free instance on the cloud, only raw transactions from 1 July 2022 to 7 July 2022 and 6 July 2021 were extracted from the API of a remote node provider (Alchemy)."
   ]
  },
  {
   "cell_type": "markdown",
   "id": "2a020e6e-f3ea-4612-ad13-1382d168fa27",
   "metadata": {},
   "source": [
    "Total number of rows and columns in the dataset\n",
    "- Rows: 9,699,876\n",
    "- Columns: 18"
   ]
  },
  {
   "cell_type": "code",
   "execution_count": 12,
   "id": "08e82581-924f-4976-9040-855cd7cd7d31",
   "metadata": {},
   "outputs": [
    {
     "data": {
      "text/plain": [
       "(9699876, 18)"
      ]
     },
     "execution_count": 12,
     "metadata": {},
     "output_type": "execute_result"
    }
   ],
   "source": [
    "df.shape"
   ]
  },
  {
   "cell_type": "code",
   "execution_count": 13,
   "id": "165ab80f-ac13-478f-93c6-900074390921",
   "metadata": {},
   "outputs": [
    {
     "name": "stdout",
     "output_type": "stream",
     "text": [
      "<class 'pandas.core.frame.DataFrame'>\n",
      "Int64Index: 9699876 entries, 0 to 2858\n",
      "Data columns (total 18 columns):\n",
      " #   Column                Dtype         \n",
      "---  ------                -----         \n",
      " 0   hash                  object        \n",
      " 1   blockHash             object        \n",
      " 2   blockNumber           int64         \n",
      " 3   chainId               float64       \n",
      " 4   from                  object        \n",
      " 5   gas                   int64         \n",
      " 6   gasPrice              int64         \n",
      " 7   input                 object        \n",
      " 8   maxFeePerGas          float64       \n",
      " 9   maxPriorityFeePerGas  float64       \n",
      " 10  nonce                 int64         \n",
      " 11  to                    object        \n",
      " 12  transactionIndex      int64         \n",
      " 13  type                  category      \n",
      " 14  value                 float64       \n",
      " 15  block_timestamp       datetime64[ns]\n",
      " 16  block_date            datetime64[ns]\n",
      " 17  eth_value             float64       \n",
      "dtypes: category(1), datetime64[ns](2), float64(5), int64(5), object(5)\n",
      "memory usage: 1.3+ GB\n"
     ]
    }
   ],
   "source": [
    "df.info()"
   ]
  },
  {
   "cell_type": "markdown",
   "id": "45759ced-09f9-4abb-8eb9-bfd64a1a64ab",
   "metadata": {},
   "source": [
    "Data fields\n",
    "- `hash` - Hash of the transaction\n",
    "- `blockHash` - Hash of the block\n",
    "- `blockNumber` - Block number\n",
    "- `from` - Address of the sender\n",
    "- `gas` - Gas provided by the sender\n",
    "- `gasPrice` - Gas price provided by the sender in Wei\n",
    "- `input` - The data sent along with the transaction. Commonly used as part of contract interaction or as a message sent to the recipient.\n",
    "- `nonce` - The number of transactions made by the sender prior to this one\n",
    "- `r` *(excluded to reduce memory usage)* - The Elliptic Curve Digital Signature Algorithm (ECDSA) signature r. The standardised R field of the signature. See: https://openethereum.github.io/JSONRPC\n",
    "- `s` *(excluded to reduce memory usage)* - The Elliptic Curve Digital Signature Algorithm (ECDSA) signature s. The standardised R field of the signature. See: https://openethereum.github.io/JSONRPC\n",
    "- `to` - Address of the receiver\n",
    "- `transactionIndex` - Integer of the transactions index position in the block\n",
    "- `type` - Overtime, Ethereum Improvement Proposals (EIPs) have changed what a valid transaction looks like, whilst maintaining a high level of backwards compatibility with other transaction types. Today, the main types of transactions are legacy transactions and typed transactions (i.e. Type 1, Type 2).  \n",
    "See https://mycelium.xyz/research/the-journey-of-an-ethereum-transaction/.  \n",
    "Also see https://docs.dune.com/data-tables/data-tables/raw-data/ethereum-data#ethereum.transactions. \n",
    "   - 0: 'legacy' \n",
    "   - 1: 'accessList/Type 1' \n",
    "   - 2: 'DynamicFee/Type 2'    \n",
    "- `v` *(excluded to reduce memory usage)* - The Elliptic Curve Digital Signature Algorithm (ECDSA) recovery id. The standardised V field of the signature. See: https://openethereum.github.io/JSONRPC\n",
    "- `value` - The amount of ether transferred in Wei. 1 ETH = 10^18 Wei. 1 ETH = 10^9 Gwei.\n",
    "- `accessList` *(excluded to reduce memory usage)* - Contains addresses and storage keys that will be accessed. These are fields from legacy transactions, EIP-2930. See: https://openethereum.github.io/JSONRPC\n",
    "- `chainId` - Value used in replay-protected transaction signing as introduced by EIP-155\n",
    "- `maxFeePerGas` - The maximum fee per gas the transaction sender is willing to pay total (introduced by EIP1559). For detailed explanation, refer to https://docs.alchemy.com/alchemy/guides/eip-1559/maxpriorityfeepergas-vs-maxfeepergas\n",
    "- `maxPriorityFeePerGas` - The maximum fee per gas the transaction sender is willing to pay total (introduced by EIP1559) Refer to https://docs.alchemy.com/alchemy/guides/eip-1559/maxpriorityfeepergas-vs-maxfeepergas\n",
    "- `block_timestamp` - Timestamp of the block\n",
    "\n",
    "References:  \n",
    "https://docs.dune.com/data-tables/data-tables/raw-data/ethereum-data#ethereum.transactions  \n",
    "The Google \"bigquery-public-data.crypto_ethereum.transactions\" column description  \n",
    "https://ethereum.org/en/developers/docs/apis/json-rpc/  \n",
    "https://docs.alchemy.com/alchemy/apis/ethereum/eth-gettransactionbyhash  "
   ]
  },
  {
   "cell_type": "markdown",
   "id": "9e1b3738-33d7-45e0-9c79-939e285220cd",
   "metadata": {},
   "source": [
    "The number of transactions in dataset 1 by date\n",
    "- Raw transactions for 30 June and 8 July 2022 are incomplete due to storage limitation and the focus of this analysis is the first 7 days of July 2022 and 2021.\n",
    "- The total number of transactions for below dates (except 30 June and 8 July 2022) matches those data from [Dune](https://dune.com/interuniverse/ethereum-transactions-overview) (see *\"Ethereum Transactions 2022 vs 2021 Last 3 Months\"* chart in dashboard)."
   ]
  },
  {
   "cell_type": "code",
   "execution_count": 14,
   "id": "7288cc7f-87fa-44cc-a1b1-a96649b4e6dc",
   "metadata": {},
   "outputs": [
    {
     "data": {
      "text/plain": [
       "block_date\n",
       "2021-07-06    1355421\n",
       "2022-06-30        511\n",
       "2022-07-01    1178620\n",
       "2022-07-02    1189382\n",
       "2022-07-03    1157052\n",
       "2022-07-04    1151999\n",
       "2022-07-05    1182504\n",
       "2022-07-06    1161432\n",
       "2022-07-07    1194330\n",
       "2022-07-08      76276\n",
       "dtype: int64"
      ]
     },
     "execution_count": 14,
     "metadata": {},
     "output_type": "execute_result"
    }
   ],
   "source": [
    "df.groupby(['block_date']).size()"
   ]
  },
  {
   "cell_type": "markdown",
   "id": "cfc5caea-4d46-4163-bd15-79d6fd778b26",
   "metadata": {},
   "source": [
    "Sample rows from dataset 1"
   ]
  },
  {
   "cell_type": "code",
   "execution_count": 15,
   "id": "f8853c7e-c3ad-47b4-a622-d59c13be98ee",
   "metadata": {},
   "outputs": [
    {
     "data": {
      "text/html": [
       "<div>\n",
       "<style scoped>\n",
       "    .dataframe tbody tr th:only-of-type {\n",
       "        vertical-align: middle;\n",
       "    }\n",
       "\n",
       "    .dataframe tbody tr th {\n",
       "        vertical-align: top;\n",
       "    }\n",
       "\n",
       "    .dataframe thead th {\n",
       "        text-align: right;\n",
       "    }\n",
       "</style>\n",
       "<table border=\"1\" class=\"dataframe\">\n",
       "  <thead>\n",
       "    <tr style=\"text-align: right;\">\n",
       "      <th></th>\n",
       "      <th>hash</th>\n",
       "      <th>blockHash</th>\n",
       "      <th>blockNumber</th>\n",
       "      <th>chainId</th>\n",
       "      <th>from</th>\n",
       "      <th>gas</th>\n",
       "      <th>gasPrice</th>\n",
       "      <th>input</th>\n",
       "      <th>maxFeePerGas</th>\n",
       "      <th>maxPriorityFeePerGas</th>\n",
       "      <th>nonce</th>\n",
       "      <th>to</th>\n",
       "      <th>transactionIndex</th>\n",
       "      <th>type</th>\n",
       "      <th>value</th>\n",
       "      <th>block_timestamp</th>\n",
       "      <th>block_date</th>\n",
       "      <th>eth_value</th>\n",
       "    </tr>\n",
       "  </thead>\n",
       "  <tbody>\n",
       "    <tr>\n",
       "      <th>529309</th>\n",
       "      <td>0xb7cc2e5eabbc8bb41bdd9edb0c931e161d17acff962234e3ff6ecb08f1ad7915</td>\n",
       "      <td>0x44740c5e8bc1a01937b514623fb2ca948def94faffabd7c89916abd308eae3be</td>\n",
       "      <td>15066052</td>\n",
       "      <td>1.0000</td>\n",
       "      <td>0x5204aa03524169144ba24423c5f7a14f93927ced</td>\n",
       "      <td>72878</td>\n",
       "      <td>97995653177</td>\n",
       "      <td>0x3761cf4a00000000000000000000000000000000000000000000000000000000000000190000000000000000000000...</td>\n",
       "      <td>111639857190.0000</td>\n",
       "      <td>1940000000.0000</td>\n",
       "      <td>376</td>\n",
       "      <td>0xfbddadd80fe7bda00b901fbaf73803f2238ae655</td>\n",
       "      <td>88</td>\n",
       "      <td>2</td>\n",
       "      <td>8542857142857140.0000</td>\n",
       "      <td>2022-07-02 23:35:16</td>\n",
       "      <td>2022-07-02</td>\n",
       "      <td>0.0085</td>\n",
       "    </tr>\n",
       "    <tr>\n",
       "      <th>1227567</th>\n",
       "      <td>0xe0bf249d2a05ca17dd1133e3140aecf3c1523cde5e17ff376440a903e8f2de90</td>\n",
       "      <td>0x831f8625cb667dcac27eb6f823a4266a8a89e479712daf95b36e44baae4f1b47</td>\n",
       "      <td>12776388</td>\n",
       "      <td>NaN</td>\n",
       "      <td>0x26ce7c1976c5eec83ea6ac22d83cb341b08850af</td>\n",
       "      <td>600000</td>\n",
       "      <td>1758388111630</td>\n",
       "      <td>0x0000c2f3c49cd7403ac4856071581e1f5a298317d9a72a19cf0029d5cd3ea2d5e0a100000000000000000000000000...</td>\n",
       "      <td>NaN</td>\n",
       "      <td>NaN</td>\n",
       "      <td>11191</td>\n",
       "      <td>0x00000000003b3cc22af3ae1eac0440bcee416b40</td>\n",
       "      <td>0</td>\n",
       "      <td>0</td>\n",
       "      <td>0.0000</td>\n",
       "      <td>2021-07-06 21:45:14</td>\n",
       "      <td>2021-07-06</td>\n",
       "      <td>0.0000</td>\n",
       "    </tr>\n",
       "    <tr>\n",
       "      <th>433889</th>\n",
       "      <td>0x08abaf69716da5a1ccf727ef18692215daaf1f10d85e29946a70ae1d2587a135</td>\n",
       "      <td>0x18f7ac7357e6d5d69f473a320fb31d47918cb214d13428de7ca1aa97d6b48e81</td>\n",
       "      <td>15084330</td>\n",
       "      <td>1.0000</td>\n",
       "      <td>0x528345d29b210c906ba7fb8fbc2595985e1f22c1</td>\n",
       "      <td>200000</td>\n",
       "      <td>38614650141</td>\n",
       "      <td>0xad6ac81b0000000000000000000000000000000000000000000000000000000000000002</td>\n",
       "      <td>188000000000.0000</td>\n",
       "      <td>3124745209.0000</td>\n",
       "      <td>75</td>\n",
       "      <td>0x3b2a8583d381845d278fb75345e39c64891b3611</td>\n",
       "      <td>227</td>\n",
       "      <td>2</td>\n",
       "      <td>0.0000</td>\n",
       "      <td>2022-07-05 19:06:36</td>\n",
       "      <td>2022-07-05</td>\n",
       "      <td>0.0000</td>\n",
       "    </tr>\n",
       "  </tbody>\n",
       "</table>\n",
       "</div>"
      ],
      "text/plain": [
       "                                                                       hash  \\\n",
       "529309   0xb7cc2e5eabbc8bb41bdd9edb0c931e161d17acff962234e3ff6ecb08f1ad7915   \n",
       "1227567  0xe0bf249d2a05ca17dd1133e3140aecf3c1523cde5e17ff376440a903e8f2de90   \n",
       "433889   0x08abaf69716da5a1ccf727ef18692215daaf1f10d85e29946a70ae1d2587a135   \n",
       "\n",
       "                                                                  blockHash  \\\n",
       "529309   0x44740c5e8bc1a01937b514623fb2ca948def94faffabd7c89916abd308eae3be   \n",
       "1227567  0x831f8625cb667dcac27eb6f823a4266a8a89e479712daf95b36e44baae4f1b47   \n",
       "433889   0x18f7ac7357e6d5d69f473a320fb31d47918cb214d13428de7ca1aa97d6b48e81   \n",
       "\n",
       "         blockNumber  chainId                                        from  \\\n",
       "529309      15066052   1.0000  0x5204aa03524169144ba24423c5f7a14f93927ced   \n",
       "1227567     12776388      NaN  0x26ce7c1976c5eec83ea6ac22d83cb341b08850af   \n",
       "433889      15084330   1.0000  0x528345d29b210c906ba7fb8fbc2595985e1f22c1   \n",
       "\n",
       "            gas       gasPrice  \\\n",
       "529309    72878    97995653177   \n",
       "1227567  600000  1758388111630   \n",
       "433889   200000    38614650141   \n",
       "\n",
       "                                                                                                       input  \\\n",
       "529309   0x3761cf4a00000000000000000000000000000000000000000000000000000000000000190000000000000000000000...   \n",
       "1227567  0x0000c2f3c49cd7403ac4856071581e1f5a298317d9a72a19cf0029d5cd3ea2d5e0a100000000000000000000000000...   \n",
       "433889                            0xad6ac81b0000000000000000000000000000000000000000000000000000000000000002   \n",
       "\n",
       "             maxFeePerGas  maxPriorityFeePerGas  nonce  \\\n",
       "529309  111639857190.0000       1940000000.0000    376   \n",
       "1227567               NaN                   NaN  11191   \n",
       "433889  188000000000.0000       3124745209.0000     75   \n",
       "\n",
       "                                                 to  transactionIndex type  \\\n",
       "529309   0xfbddadd80fe7bda00b901fbaf73803f2238ae655                88    2   \n",
       "1227567  0x00000000003b3cc22af3ae1eac0440bcee416b40                 0    0   \n",
       "433889   0x3b2a8583d381845d278fb75345e39c64891b3611               227    2   \n",
       "\n",
       "                        value     block_timestamp block_date  eth_value  \n",
       "529309  8542857142857140.0000 2022-07-02 23:35:16 2022-07-02     0.0085  \n",
       "1227567                0.0000 2021-07-06 21:45:14 2021-07-06     0.0000  \n",
       "433889                 0.0000 2022-07-05 19:06:36 2022-07-05     0.0000  "
      ]
     },
     "execution_count": 15,
     "metadata": {},
     "output_type": "execute_result"
    }
   ],
   "source": [
    "df.sample(3)"
   ]
  },
  {
   "cell_type": "markdown",
   "id": "54a25d84-6ded-4506-9f9e-6d85da63de7a",
   "metadata": {
    "tags": []
   },
   "source": [
    "## Analysis: Year-Over-Year (YOY) transactions 1 to 7 July 2021 vs 1 to 7 July 2022\n",
    "[Go to top](https://interuniverse.github.io/scratching-the-surface/2022/07/25/ethereum-txn-eda.html)"
   ]
  },
  {
   "cell_type": "markdown",
   "id": "29f14aa9-4c43-4a2a-a7f4-d0dcff34d42e",
   "metadata": {},
   "source": [
    "Aggregate dataset 2 (the transaction counts data)"
   ]
  },
  {
   "cell_type": "code",
   "execution_count": 16,
   "id": "6d73f2a9-e0e1-4ebb-9ca1-7a338776ef4c",
   "metadata": {},
   "outputs": [],
   "source": [
    "df_txn_daily = df_txn.query('block_date.between(\"2021-07-01\",\"2021-07-07\", inclusive=\"both\") or block_date.between(\"2022-07-01\",\"2022-07-07\", inclusive=\"both\")')\n",
    "df_txn_daily = df_txn_daily.groupby(['block_date']).agg(transactions=('block_transactions','sum'))\n",
    "df_txn_daily.reset_index(inplace=True)\n",
    "df_txn_daily['block_year'] = df_txn_daily['block_date'].dt.year"
   ]
  },
  {
   "cell_type": "markdown",
   "id": "509c8e3a-5db0-4808-9894-046c441ead47",
   "metadata": {},
   "source": [
    "Examine the first 5 rows"
   ]
  },
  {
   "cell_type": "code",
   "execution_count": 17,
   "id": "c92ca6ff-73ea-4d59-a0bc-db264c59c5d5",
   "metadata": {},
   "outputs": [
    {
     "data": {
      "text/html": [
       "<div>\n",
       "<style scoped>\n",
       "    .dataframe tbody tr th:only-of-type {\n",
       "        vertical-align: middle;\n",
       "    }\n",
       "\n",
       "    .dataframe tbody tr th {\n",
       "        vertical-align: top;\n",
       "    }\n",
       "\n",
       "    .dataframe thead th {\n",
       "        text-align: right;\n",
       "    }\n",
       "</style>\n",
       "<table border=\"1\" class=\"dataframe\">\n",
       "  <thead>\n",
       "    <tr style=\"text-align: right;\">\n",
       "      <th></th>\n",
       "      <th>block_date</th>\n",
       "      <th>transactions</th>\n",
       "      <th>block_year</th>\n",
       "    </tr>\n",
       "  </thead>\n",
       "  <tbody>\n",
       "    <tr>\n",
       "      <th>0</th>\n",
       "      <td>2021-07-01</td>\n",
       "      <td>1211710</td>\n",
       "      <td>2021</td>\n",
       "    </tr>\n",
       "    <tr>\n",
       "      <th>1</th>\n",
       "      <td>2021-07-02</td>\n",
       "      <td>1181574</td>\n",
       "      <td>2021</td>\n",
       "    </tr>\n",
       "    <tr>\n",
       "      <th>2</th>\n",
       "      <td>2021-07-03</td>\n",
       "      <td>1122543</td>\n",
       "      <td>2021</td>\n",
       "    </tr>\n",
       "    <tr>\n",
       "      <th>3</th>\n",
       "      <td>2021-07-04</td>\n",
       "      <td>1105343</td>\n",
       "      <td>2021</td>\n",
       "    </tr>\n",
       "    <tr>\n",
       "      <th>4</th>\n",
       "      <td>2021-07-05</td>\n",
       "      <td>1147895</td>\n",
       "      <td>2021</td>\n",
       "    </tr>\n",
       "  </tbody>\n",
       "</table>\n",
       "</div>"
      ],
      "text/plain": [
       "  block_date  transactions  block_year\n",
       "0 2021-07-01       1211710        2021\n",
       "1 2021-07-02       1181574        2021\n",
       "2 2021-07-03       1122543        2021\n",
       "3 2021-07-04       1105343        2021\n",
       "4 2021-07-05       1147895        2021"
      ]
     },
     "execution_count": 17,
     "metadata": {},
     "output_type": "execute_result"
    }
   ],
   "source": [
    "df_txn_daily.head()"
   ]
  },
  {
   "cell_type": "markdown",
   "id": "cb6dde34-48cd-4819-b400-d89c27372ebb",
   "metadata": {},
   "source": [
    "### Chart 1: Number of Ethereum transactions\n",
    "[Back to Summary](https://interuniverse.github.io/scratching-the-surface/2022/07/25/ethereum-txn-eda.html#Summary)"
   ]
  },
  {
   "cell_type": "code",
   "execution_count": 18,
   "id": "418bff09-d047-4037-a76e-14e9aa62f0d0",
   "metadata": {},
   "outputs": [
    {
     "data": {
      "text/html": [
       "\n",
       "<div id=\"altair-viz-96b189eadca8424cab53747acca5dcba\"></div>\n",
       "<script type=\"text/javascript\">\n",
       "  var VEGA_DEBUG = (typeof VEGA_DEBUG == \"undefined\") ? {} : VEGA_DEBUG;\n",
       "  (function(spec, embedOpt){\n",
       "    let outputDiv = document.currentScript.previousElementSibling;\n",
       "    if (outputDiv.id !== \"altair-viz-96b189eadca8424cab53747acca5dcba\") {\n",
       "      outputDiv = document.getElementById(\"altair-viz-96b189eadca8424cab53747acca5dcba\");\n",
       "    }\n",
       "    const paths = {\n",
       "      \"vega\": \"https://cdn.jsdelivr.net/npm//vega@5?noext\",\n",
       "      \"vega-lib\": \"https://cdn.jsdelivr.net/npm//vega-lib?noext\",\n",
       "      \"vega-lite\": \"https://cdn.jsdelivr.net/npm//vega-lite@4.17.0?noext\",\n",
       "      \"vega-embed\": \"https://cdn.jsdelivr.net/npm//vega-embed@6?noext\",\n",
       "    };\n",
       "\n",
       "    function maybeLoadScript(lib, version) {\n",
       "      var key = `${lib.replace(\"-\", \"\")}_version`;\n",
       "      return (VEGA_DEBUG[key] == version) ?\n",
       "        Promise.resolve(paths[lib]) :\n",
       "        new Promise(function(resolve, reject) {\n",
       "          var s = document.createElement('script');\n",
       "          document.getElementsByTagName(\"head\")[0].appendChild(s);\n",
       "          s.async = true;\n",
       "          s.onload = () => {\n",
       "            VEGA_DEBUG[key] = version;\n",
       "            return resolve(paths[lib]);\n",
       "          };\n",
       "          s.onerror = () => reject(`Error loading script: ${paths[lib]}`);\n",
       "          s.src = paths[lib];\n",
       "        });\n",
       "    }\n",
       "\n",
       "    function showError(err) {\n",
       "      outputDiv.innerHTML = `<div class=\"error\" style=\"color:red;\">${err}</div>`;\n",
       "      throw err;\n",
       "    }\n",
       "\n",
       "    function displayChart(vegaEmbed) {\n",
       "      vegaEmbed(outputDiv, spec, embedOpt)\n",
       "        .catch(err => showError(`Javascript Error: ${err.message}<br>This usually means there's a typo in your chart specification. See the javascript console for the full traceback.`));\n",
       "    }\n",
       "\n",
       "    if(typeof define === \"function\" && define.amd) {\n",
       "      requirejs.config({paths});\n",
       "      require([\"vega-embed\"], displayChart, err => showError(`Error loading script: ${err.message}`));\n",
       "    } else {\n",
       "      maybeLoadScript(\"vega\", \"5\")\n",
       "        .then(() => maybeLoadScript(\"vega-lite\", \"4.17.0\"))\n",
       "        .then(() => maybeLoadScript(\"vega-embed\", \"6\"))\n",
       "        .catch(showError)\n",
       "        .then(() => displayChart(vegaEmbed));\n",
       "    }\n",
       "  })({\"config\": {\"view\": {\"continuousWidth\": 400, \"continuousHeight\": 300}}, \"data\": {\"name\": \"data-026db85f04635e99c03945e9fb5e3c19\"}, \"mark\": \"line\", \"encoding\": {\"color\": {\"field\": \"block_year\", \"legend\": {\"title\": \"year\"}, \"scale\": {\"range\": [\"saddlebrown\", \"steelblue\"]}, \"type\": \"nominal\"}, \"tooltip\": [{\"field\": \"block_year\", \"title\": \"Year\", \"type\": \"quantitative\"}, {\"field\": \"transactions\", \"format\": \",\", \"title\": \"Transactions\", \"type\": \"quantitative\"}, {\"field\": \"block_date\", \"timeUnit\": \"monthdate\", \"title\": \"Month-Day\", \"type\": \"temporal\"}], \"x\": {\"field\": \"block_date\", \"timeUnit\": \"monthdate\", \"title\": \"Month-Day\", \"type\": \"ordinal\"}, \"y\": {\"field\": \"transactions\", \"title\": \"Transactions\", \"type\": \"quantitative\"}}, \"height\": 500, \"title\": \"Chart 1 - A decline in Ethereum transactions on 6 and 7 July 2022 compared to 2021\", \"width\": 700, \"$schema\": \"https://vega.github.io/schema/vega-lite/v4.17.0.json\", \"datasets\": {\"data-026db85f04635e99c03945e9fb5e3c19\": [{\"block_date\": \"2021-07-01T00:00:00\", \"transactions\": 1211710, \"block_year\": 2021}, {\"block_date\": \"2021-07-02T00:00:00\", \"transactions\": 1181574, \"block_year\": 2021}, {\"block_date\": \"2021-07-03T00:00:00\", \"transactions\": 1122543, \"block_year\": 2021}, {\"block_date\": \"2021-07-04T00:00:00\", \"transactions\": 1105343, \"block_year\": 2021}, {\"block_date\": \"2021-07-05T00:00:00\", \"transactions\": 1147895, \"block_year\": 2021}, {\"block_date\": \"2021-07-06T00:00:00\", \"transactions\": 1355421, \"block_year\": 2021}, {\"block_date\": \"2021-07-07T00:00:00\", \"transactions\": 1290979, \"block_year\": 2021}, {\"block_date\": \"2022-07-01T00:00:00\", \"transactions\": 1178620, \"block_year\": 2022}, {\"block_date\": \"2022-07-02T00:00:00\", \"transactions\": 1189382, \"block_year\": 2022}, {\"block_date\": \"2022-07-03T00:00:00\", \"transactions\": 1157052, \"block_year\": 2022}, {\"block_date\": \"2022-07-04T00:00:00\", \"transactions\": 1151999, \"block_year\": 2022}, {\"block_date\": \"2022-07-05T00:00:00\", \"transactions\": 1182504, \"block_year\": 2022}, {\"block_date\": \"2022-07-06T00:00:00\", \"transactions\": 1161432, \"block_year\": 2022}, {\"block_date\": \"2022-07-07T00:00:00\", \"transactions\": 1194330, \"block_year\": 2022}]}}, {\"mode\": \"vega-lite\"});\n",
       "</script>"
      ],
      "text/plain": [
       "alt.Chart(...)"
      ]
     },
     "execution_count": 18,
     "metadata": {},
     "output_type": "execute_result"
    }
   ],
   "source": [
    "#collapse\n",
    "alt.Chart(df_txn_daily).mark_line().encode(\n",
    "    x=alt.X('monthdate(block_date):O', title='Month-Day'),\n",
    "    y=alt.Y('transactions:Q', title='Transactions'),\n",
    "    color=alt.Color('block_year:N', scale=alt.Scale(range=['saddlebrown','steelblue']), legend=alt.Legend(title='year')),\n",
    "    tooltip=[alt.Tooltip('block_year', title='Year'), alt.Tooltip('transactions', format=',', title='Transactions'), alt.Tooltip('monthdate(block_date)', title='Month-Day')],\n",
    ").properties(\n",
    "    title='Chart 1 - A decline in Ethereum transactions on 6 and 7 July 2022 compared to 2021',\n",
    "    height=500,\n",
    "    width=700\n",
    ")"
   ]
  },
  {
   "cell_type": "markdown",
   "id": "a335f6b9-6212-469d-994c-3464589f39c5",
   "metadata": {},
   "source": [
    "Calculate the Year-Over-Year (YOY)"
   ]
  },
  {
   "cell_type": "code",
   "execution_count": 19,
   "id": "1ba3cb0f-2e44-4458-9a80-ba2c1ba0f9ce",
   "metadata": {},
   "outputs": [],
   "source": [
    "df_txn_daily_pct = df_txn_daily.set_index('block_date').drop(columns='block_year').pct_change(periods=7).dropna()\n",
    "df_txn_daily_pct.rename(columns={'transactions':'pct_change'}, inplace=True)"
   ]
  },
  {
   "cell_type": "markdown",
   "id": "9299d27e-9daa-4aa3-9fff-a7a577c498ab",
   "metadata": {},
   "source": [
    "Examine the first 5 rows"
   ]
  },
  {
   "cell_type": "code",
   "execution_count": 20,
   "id": "e24ddf6e-8c35-42b2-aa7e-9f5f312920c0",
   "metadata": {},
   "outputs": [
    {
     "data": {
      "text/html": [
       "<div>\n",
       "<style scoped>\n",
       "    .dataframe tbody tr th:only-of-type {\n",
       "        vertical-align: middle;\n",
       "    }\n",
       "\n",
       "    .dataframe tbody tr th {\n",
       "        vertical-align: top;\n",
       "    }\n",
       "\n",
       "    .dataframe thead th {\n",
       "        text-align: right;\n",
       "    }\n",
       "</style>\n",
       "<table border=\"1\" class=\"dataframe\">\n",
       "  <thead>\n",
       "    <tr style=\"text-align: right;\">\n",
       "      <th></th>\n",
       "      <th>pct_change</th>\n",
       "    </tr>\n",
       "    <tr>\n",
       "      <th>block_date</th>\n",
       "      <th></th>\n",
       "    </tr>\n",
       "  </thead>\n",
       "  <tbody>\n",
       "    <tr>\n",
       "      <th>2022-07-01</th>\n",
       "      <td>-0.0273</td>\n",
       "    </tr>\n",
       "    <tr>\n",
       "      <th>2022-07-02</th>\n",
       "      <td>0.0066</td>\n",
       "    </tr>\n",
       "    <tr>\n",
       "      <th>2022-07-03</th>\n",
       "      <td>0.0307</td>\n",
       "    </tr>\n",
       "    <tr>\n",
       "      <th>2022-07-04</th>\n",
       "      <td>0.0422</td>\n",
       "    </tr>\n",
       "    <tr>\n",
       "      <th>2022-07-05</th>\n",
       "      <td>0.0301</td>\n",
       "    </tr>\n",
       "  </tbody>\n",
       "</table>\n",
       "</div>"
      ],
      "text/plain": [
       "            pct_change\n",
       "block_date            \n",
       "2022-07-01     -0.0273\n",
       "2022-07-02      0.0066\n",
       "2022-07-03      0.0307\n",
       "2022-07-04      0.0422\n",
       "2022-07-05      0.0301"
      ]
     },
     "execution_count": 20,
     "metadata": {},
     "output_type": "execute_result"
    }
   ],
   "source": [
    "df_txn_daily_pct.head()"
   ]
  },
  {
   "cell_type": "markdown",
   "id": "45f5e6fd-3b57-4d01-9f86-53bbade2795e",
   "metadata": {},
   "source": [
    "### Chart 2: Ethereum Year-Over-Year Transactions\n",
    "[Back to Summary](https://interuniverse.github.io/scratching-the-surface/2022/07/25/ethereum-txn-eda.html#Summary)"
   ]
  },
  {
   "cell_type": "code",
   "execution_count": 21,
   "id": "5f51d485-27c2-4110-8884-7738b258ce9f",
   "metadata": {},
   "outputs": [
    {
     "data": {
      "text/html": [
       "\n",
       "<div id=\"altair-viz-b83dac3b25ac4f9da74438797291dfe8\"></div>\n",
       "<script type=\"text/javascript\">\n",
       "  var VEGA_DEBUG = (typeof VEGA_DEBUG == \"undefined\") ? {} : VEGA_DEBUG;\n",
       "  (function(spec, embedOpt){\n",
       "    let outputDiv = document.currentScript.previousElementSibling;\n",
       "    if (outputDiv.id !== \"altair-viz-b83dac3b25ac4f9da74438797291dfe8\") {\n",
       "      outputDiv = document.getElementById(\"altair-viz-b83dac3b25ac4f9da74438797291dfe8\");\n",
       "    }\n",
       "    const paths = {\n",
       "      \"vega\": \"https://cdn.jsdelivr.net/npm//vega@5?noext\",\n",
       "      \"vega-lib\": \"https://cdn.jsdelivr.net/npm//vega-lib?noext\",\n",
       "      \"vega-lite\": \"https://cdn.jsdelivr.net/npm//vega-lite@4.17.0?noext\",\n",
       "      \"vega-embed\": \"https://cdn.jsdelivr.net/npm//vega-embed@6?noext\",\n",
       "    };\n",
       "\n",
       "    function maybeLoadScript(lib, version) {\n",
       "      var key = `${lib.replace(\"-\", \"\")}_version`;\n",
       "      return (VEGA_DEBUG[key] == version) ?\n",
       "        Promise.resolve(paths[lib]) :\n",
       "        new Promise(function(resolve, reject) {\n",
       "          var s = document.createElement('script');\n",
       "          document.getElementsByTagName(\"head\")[0].appendChild(s);\n",
       "          s.async = true;\n",
       "          s.onload = () => {\n",
       "            VEGA_DEBUG[key] = version;\n",
       "            return resolve(paths[lib]);\n",
       "          };\n",
       "          s.onerror = () => reject(`Error loading script: ${paths[lib]}`);\n",
       "          s.src = paths[lib];\n",
       "        });\n",
       "    }\n",
       "\n",
       "    function showError(err) {\n",
       "      outputDiv.innerHTML = `<div class=\"error\" style=\"color:red;\">${err}</div>`;\n",
       "      throw err;\n",
       "    }\n",
       "\n",
       "    function displayChart(vegaEmbed) {\n",
       "      vegaEmbed(outputDiv, spec, embedOpt)\n",
       "        .catch(err => showError(`Javascript Error: ${err.message}<br>This usually means there's a typo in your chart specification. See the javascript console for the full traceback.`));\n",
       "    }\n",
       "\n",
       "    if(typeof define === \"function\" && define.amd) {\n",
       "      requirejs.config({paths});\n",
       "      require([\"vega-embed\"], displayChart, err => showError(`Error loading script: ${err.message}`));\n",
       "    } else {\n",
       "      maybeLoadScript(\"vega\", \"5\")\n",
       "        .then(() => maybeLoadScript(\"vega-lite\", \"4.17.0\"))\n",
       "        .then(() => maybeLoadScript(\"vega-embed\", \"6\"))\n",
       "        .catch(showError)\n",
       "        .then(() => displayChart(vegaEmbed));\n",
       "    }\n",
       "  })({\"config\": {\"view\": {\"continuousWidth\": 400, \"continuousHeight\": 300}}, \"data\": {\"name\": \"data-00e13823add68b1f38846a03ff078806\"}, \"mark\": \"bar\", \"encoding\": {\"color\": {\"condition\": {\"value\": \"steelblue\", \"test\": \"(datum.pct_change > 0)\"}, \"value\": \"orange\"}, \"tooltip\": [{\"field\": \"block_date\", \"timeUnit\": \"monthdate\", \"title\": \"Month-Day\", \"type\": \"temporal\"}, {\"field\": \"pct_change\", \"format\": \".2%\", \"title\": \"2022 vs 2021 % Difference\", \"type\": \"quantitative\"}], \"x\": {\"field\": \"block_date\", \"timeUnit\": \"monthdate\", \"title\": \"Month-Day\", \"type\": \"ordinal\"}, \"y\": {\"axis\": {\"format\": \"%\", \"title\": \"Year-Over-Year 2022 vs 2021 % Difference\"}, \"field\": \"pct_change\", \"type\": \"quantitative\"}}, \"height\": 500, \"title\": \"Chart 2 - 14% decline in Ethereum transactions on 6 July 2022\", \"width\": 700, \"$schema\": \"https://vega.github.io/schema/vega-lite/v4.17.0.json\", \"datasets\": {\"data-00e13823add68b1f38846a03ff078806\": [{\"block_date\": \"2022-07-01T00:00:00\", \"pct_change\": -0.027308514413514784}, {\"block_date\": \"2022-07-02T00:00:00\", \"pct_change\": 0.006608134573035551}, {\"block_date\": \"2022-07-03T00:00:00\", \"pct_change\": 0.030741806772658142}, {\"block_date\": \"2022-07-04T00:00:00\", \"pct_change\": 0.04220952229308006}, {\"block_date\": \"2022-07-05T00:00:00\", \"pct_change\": 0.03014997016277632}, {\"block_date\": \"2022-07-06T00:00:00\", \"pct_change\": -0.1431208458478952}, {\"block_date\": \"2022-07-07T00:00:00\", \"pct_change\": -0.0748648893591608}]}}, {\"mode\": \"vega-lite\"});\n",
       "</script>"
      ],
      "text/plain": [
       "alt.Chart(...)"
      ]
     },
     "execution_count": 21,
     "metadata": {},
     "output_type": "execute_result"
    }
   ],
   "source": [
    "#collapse\n",
    "alt.Chart(df_txn_daily_pct.reset_index()).mark_bar().encode(\n",
    "    x=alt.X('monthdate(block_date):O', title='Month-Day'),\n",
    "    y=alt.Y('pct_change:Q', axis=alt.Axis(format='%', title='Year-Over-Year 2022 vs 2021 % Difference')),\n",
    "    color=alt.condition(\n",
    "        alt.datum.pct_change > 0,\n",
    "        alt.value(\"steelblue\"),\n",
    "        alt.value(\"orange\")),\n",
    "    tooltip=[alt.Tooltip('monthdate(block_date)', title='Month-Day'), alt.Tooltip('pct_change', title='2022 vs 2021 % Difference', format='.2%')]\n",
    ").properties(\n",
    "    height=500,\n",
    "    width=700,\n",
    "    title='Chart 2 - 14% decline in Ethereum transactions on 6 July 2022'\n",
    ")"
   ]
  },
  {
   "cell_type": "markdown",
   "id": "14d6b48a-2e15-462b-8cf9-dd78a1cd7f4c",
   "metadata": {
    "tags": []
   },
   "source": [
    "## Analysis: Where did the drop in transaction come from?\n",
    "[Go to top](https://interuniverse.github.io/scratching-the-surface/2022/07/25/ethereum-txn-eda.html)"
   ]
  },
  {
   "cell_type": "markdown",
   "id": "602204ed-0c5e-4d4a-b25d-734533f6ca73",
   "metadata": {},
   "source": [
    "Identify Top 50 sender addresses with the most transactions on 6 July 2022 and 2021\n",
    "- The name (label) of addresses were manually sourced from [etherscan](https://etherscan.io/) and saved as dataset 3 (see above).\n",
    "- Note that an organization, for e.g. a crypto exchange can have multiple addresses.\n",
    "  - For e.g. compare this address [0x3cd751e6b0078be393132286c442345e5dc49699](https://etherscan.io/address/0x3cd751e6b0078be393132286c442345e5dc49699) and [0xb5d85cbf7cb3ee0d56b3bb207d5fc4b82f43f511](https://etherscan.io/address/0xb5d85cbf7cb3ee0d56b3bb207d5fc4b82f43f511) in etherscan."
   ]
  },
  {
   "cell_type": "markdown",
   "id": "7d2c5bf9-6d97-4d57-9c2b-54be88e056c1",
   "metadata": {},
   "source": [
    "Filter dataset 1 (Ethereum transactions) to 6 July 2022 and 6 July 2021 and add address names (labels)"
   ]
  },
  {
   "cell_type": "code",
   "execution_count": 22,
   "id": "6735efc8-8a95-4a4d-9cb2-44d75f8eef57",
   "metadata": {},
   "outputs": [],
   "source": [
    "df_agg = df.query('block_date.isin([\"2021-07-06\",\"2022-07-06\"])').groupby(['from','block_date']).agg(total_transactions=('hash','count'),total_value_eth=('eth_value','sum'))\n",
    "df_agg.reset_index(inplace=True)\n",
    "df_agg['year'] = df_agg['block_date'].dt.year\n",
    "df_agg = df_agg.merge(df_labels, left_on='from', right_on='address', how='left')\n",
    "df_agg.drop(columns='address', inplace=True)\n",
    "\n",
    "#Create additional column to group the addresses into \"miners\", \"exchanges\" and \"no label\"\n",
    "cat_map = {'2Miners: PPLNS':'miner','BeePool':'miner','Binance':'exchange','BlockFi':'exchange','Coinbase':'exchange',\n",
    "           'Crypto.com':'exchange','Ethermine':'miner','F2Pool Old':'miner','FTX Exchange':'exchange','Flexpool.io':'miner',\n",
    "           'Gate.io':'exchange','Gemini':'exchange','Hiveon':'miner','Hiveon Pool':'miner','KuCoin':'exchange',\n",
    "           'Nanopool':'miner','No Label':'no label','Spark Pool: Distributor':'miner'}\n",
    "\n",
    "#Categorize the addresses into higher level category\n",
    "df_agg['address_category'] = df_agg['address_label'].map(cat_map).astype('category')"
   ]
  },
  {
   "cell_type": "markdown",
   "id": "e87d4a76-d8f0-44c9-a04c-bcdccee0eba4",
   "metadata": {},
   "source": [
    "Example Top 10 `from` addresses sorted by total transactions for 6 July 2021\n",
    "- Below, we can see that there are multiple `from` addresses belonging to the same organization/user.\n",
    "- So, we will group them into a single address label by doing another aggregation."
   ]
  },
  {
   "cell_type": "code",
   "execution_count": 23,
   "id": "ebf5bc35-07e5-476e-b587-2faa816f0be3",
   "metadata": {},
   "outputs": [
    {
     "data": {
      "text/html": [
       "<div>\n",
       "<style scoped>\n",
       "    .dataframe tbody tr th:only-of-type {\n",
       "        vertical-align: middle;\n",
       "    }\n",
       "\n",
       "    .dataframe tbody tr th {\n",
       "        vertical-align: top;\n",
       "    }\n",
       "\n",
       "    .dataframe thead th {\n",
       "        text-align: right;\n",
       "    }\n",
       "</style>\n",
       "<table border=\"1\" class=\"dataframe\">\n",
       "  <thead>\n",
       "    <tr style=\"text-align: right;\">\n",
       "      <th></th>\n",
       "      <th>from</th>\n",
       "      <th>block_date</th>\n",
       "      <th>total_transactions</th>\n",
       "      <th>total_value_eth</th>\n",
       "      <th>year</th>\n",
       "      <th>address_label</th>\n",
       "      <th>address_category</th>\n",
       "    </tr>\n",
       "  </thead>\n",
       "  <tbody>\n",
       "    <tr>\n",
       "      <th>117394</th>\n",
       "      <td>0x28c6c06298d514db089934071355e5743bf21d60</td>\n",
       "      <td>2021-07-06</td>\n",
       "      <td>26214</td>\n",
       "      <td>199100.2383</td>\n",
       "      <td>2021</td>\n",
       "      <td>Binance</td>\n",
       "      <td>exchange</td>\n",
       "    </tr>\n",
       "    <tr>\n",
       "      <th>665632</th>\n",
       "      <td>0xea674fdde714fd979de3edf0f56aa9716b898ec8</td>\n",
       "      <td>2021-07-06</td>\n",
       "      <td>20714</td>\n",
       "      <td>5344.9277</td>\n",
       "      <td>2021</td>\n",
       "      <td>Ethermine</td>\n",
       "      <td>miner</td>\n",
       "    </tr>\n",
       "    <tr>\n",
       "      <th>97361</th>\n",
       "      <td>0x21a31ee1afc51d94c2efccaa2092ad1028285549</td>\n",
       "      <td>2021-07-06</td>\n",
       "      <td>17730</td>\n",
       "      <td>15577.6007</td>\n",
       "      <td>2021</td>\n",
       "      <td>Binance</td>\n",
       "      <td>exchange</td>\n",
       "    </tr>\n",
       "    <tr>\n",
       "      <th>201163</th>\n",
       "      <td>0x46340b20830761efd32832a74d7169b29feb9758</td>\n",
       "      <td>2021-07-06</td>\n",
       "      <td>17182</td>\n",
       "      <td>4324.6382</td>\n",
       "      <td>2021</td>\n",
       "      <td>Crypto.com</td>\n",
       "      <td>exchange</td>\n",
       "    </tr>\n",
       "    <tr>\n",
       "      <th>174445</th>\n",
       "      <td>0x3cd751e6b0078be393132286c442345e5dc49699</td>\n",
       "      <td>2021-07-06</td>\n",
       "      <td>16787</td>\n",
       "      <td>31528.9259</td>\n",
       "      <td>2021</td>\n",
       "      <td>Coinbase</td>\n",
       "      <td>exchange</td>\n",
       "    </tr>\n",
       "    <tr>\n",
       "      <th>517155</th>\n",
       "      <td>0xb5d85cbf7cb3ee0d56b3bb207d5fc4b82f43f511</td>\n",
       "      <td>2021-07-06</td>\n",
       "      <td>16046</td>\n",
       "      <td>24213.1106</td>\n",
       "      <td>2021</td>\n",
       "      <td>Coinbase</td>\n",
       "      <td>exchange</td>\n",
       "    </tr>\n",
       "    <tr>\n",
       "      <th>630743</th>\n",
       "      <td>0xddfabcdc4d8ffc6d5beaf154f18b778f892a0740</td>\n",
       "      <td>2021-07-06</td>\n",
       "      <td>15380</td>\n",
       "      <td>17467.0024</td>\n",
       "      <td>2021</td>\n",
       "      <td>Coinbase</td>\n",
       "      <td>exchange</td>\n",
       "    </tr>\n",
       "    <tr>\n",
       "      <th>635992</th>\n",
       "      <td>0xdfd5293d8e347dfe59e90efd55b2956a1343963d</td>\n",
       "      <td>2021-07-06</td>\n",
       "      <td>15225</td>\n",
       "      <td>26675.9143</td>\n",
       "      <td>2021</td>\n",
       "      <td>Binance</td>\n",
       "      <td>exchange</td>\n",
       "    </tr>\n",
       "    <tr>\n",
       "      <th>248558</th>\n",
       "      <td>0x56eddb7aa87536c09ccc2793473599fd21a8b17f</td>\n",
       "      <td>2021-07-06</td>\n",
       "      <td>13690</td>\n",
       "      <td>40479.3991</td>\n",
       "      <td>2021</td>\n",
       "      <td>Binance</td>\n",
       "      <td>exchange</td>\n",
       "    </tr>\n",
       "    <tr>\n",
       "      <th>428288</th>\n",
       "      <td>0x9696f59e4d72e237be84ffd425dcad154bf96976</td>\n",
       "      <td>2021-07-06</td>\n",
       "      <td>13268</td>\n",
       "      <td>43348.3426</td>\n",
       "      <td>2021</td>\n",
       "      <td>Binance</td>\n",
       "      <td>exchange</td>\n",
       "    </tr>\n",
       "  </tbody>\n",
       "</table>\n",
       "</div>"
      ],
      "text/plain": [
       "                                              from block_date  \\\n",
       "117394  0x28c6c06298d514db089934071355e5743bf21d60 2021-07-06   \n",
       "665632  0xea674fdde714fd979de3edf0f56aa9716b898ec8 2021-07-06   \n",
       "97361   0x21a31ee1afc51d94c2efccaa2092ad1028285549 2021-07-06   \n",
       "201163  0x46340b20830761efd32832a74d7169b29feb9758 2021-07-06   \n",
       "174445  0x3cd751e6b0078be393132286c442345e5dc49699 2021-07-06   \n",
       "517155  0xb5d85cbf7cb3ee0d56b3bb207d5fc4b82f43f511 2021-07-06   \n",
       "630743  0xddfabcdc4d8ffc6d5beaf154f18b778f892a0740 2021-07-06   \n",
       "635992  0xdfd5293d8e347dfe59e90efd55b2956a1343963d 2021-07-06   \n",
       "248558  0x56eddb7aa87536c09ccc2793473599fd21a8b17f 2021-07-06   \n",
       "428288  0x9696f59e4d72e237be84ffd425dcad154bf96976 2021-07-06   \n",
       "\n",
       "        total_transactions  total_value_eth  year address_label  \\\n",
       "117394               26214      199100.2383  2021       Binance   \n",
       "665632               20714        5344.9277  2021     Ethermine   \n",
       "97361                17730       15577.6007  2021       Binance   \n",
       "201163               17182        4324.6382  2021    Crypto.com   \n",
       "174445               16787       31528.9259  2021      Coinbase   \n",
       "517155               16046       24213.1106  2021      Coinbase   \n",
       "630743               15380       17467.0024  2021      Coinbase   \n",
       "635992               15225       26675.9143  2021       Binance   \n",
       "248558               13690       40479.3991  2021       Binance   \n",
       "428288               13268       43348.3426  2021       Binance   \n",
       "\n",
       "       address_category  \n",
       "117394         exchange  \n",
       "665632            miner  \n",
       "97361          exchange  \n",
       "201163         exchange  \n",
       "174445         exchange  \n",
       "517155         exchange  \n",
       "630743         exchange  \n",
       "635992         exchange  \n",
       "248558         exchange  \n",
       "428288         exchange  "
      ]
     },
     "execution_count": 23,
     "metadata": {},
     "output_type": "execute_result"
    }
   ],
   "source": [
    "df_agg.query('block_date == \"2021-07-06\"').sort_values(by='total_transactions', ascending=False).iloc[:10,:]"
   ]
  },
  {
   "cell_type": "markdown",
   "id": "ed5662f6-d1ae-497c-af7b-375b113dc78f",
   "metadata": {},
   "source": [
    "Aggregate the address labels by category (miners, exchanges, no label) for 6 July 2021 and 6 July 2022"
   ]
  },
  {
   "cell_type": "code",
   "execution_count": 24,
   "id": "9cfe7e8c-4880-4f09-af6b-bb56f00b7837",
   "metadata": {},
   "outputs": [],
   "source": [
    "df_agg_category = df_agg.sort_values(by='total_transactions', ascending=False).iloc[:50,:].groupby(['address_category','year']).agg({'total_transactions':'sum','total_value_eth':'sum'})"
   ]
  },
  {
   "cell_type": "markdown",
   "id": "f8480d05-5068-4e05-a25e-51b18013dd0e",
   "metadata": {},
   "source": [
    "Create Year-Over-Year calculations and pivot the aggregated category dataset"
   ]
  },
  {
   "cell_type": "code",
   "execution_count": 25,
   "id": "b4d91e54-77aa-4e70-9084-33d6bcc1af75",
   "metadata": {},
   "outputs": [],
   "source": [
    "df_agg_category_pivot = df_agg_category.pivot_table(index='address_category', columns='year')\n",
    "df_agg_category_pivot.columns = ['total_transactions_2021','total_transactions_2022','total_value_eth_2021','total_value_eth_2022']\n",
    "\n",
    "#Create additional calculations\n",
    "df_agg_category_pivot['total_transactions_pct_diff'] = df_agg_category_pivot['total_transactions_2022']/df_agg_category_pivot['total_transactions_2021']-1\n",
    "df_agg_category_pivot['total_value_eth_pct_diff'] = df_agg_category_pivot['total_value_eth_2022']/df_agg_category_pivot['total_value_eth_2021']-1\n",
    "df_agg_category_pivot['value_per_transaction_2021'] = df_agg_category_pivot['total_value_eth_2021']/df_agg_category_pivot['total_transactions_2021']\n",
    "df_agg_category_pivot['value_per_transaction_2022'] = df_agg_category_pivot['total_value_eth_2022']/df_agg_category_pivot['total_transactions_2022']\n",
    "df_agg_category_pivot['value_per_txn_pct_diff'] = df_agg_category_pivot['value_per_transaction_2022']/df_agg_category_pivot['value_per_transaction_2021']-1\n",
    "\n",
    "#Replace infinite values with NaN\n",
    "df_agg_category_pivot.replace(np.inf, np.nan, inplace=True)"
   ]
  },
  {
   "cell_type": "markdown",
   "id": "3f5d297e-fed3-4f05-bded-fcaf6aea270d",
   "metadata": {},
   "source": [
    "### Chart 3: Year-Over-Year by Address Category 6 July 2022 vs 6 July 2021\n",
    "[Back to Summary](https://interuniverse.github.io/scratching-the-surface/2022/07/25/ethereum-txn-eda.html#Summary)"
   ]
  },
  {
   "cell_type": "code",
   "execution_count": 26,
   "id": "b1bd7b0a-99fe-481e-ab91-8637170654d1",
   "metadata": {
    "tags": []
   },
   "outputs": [
    {
     "data": {
      "text/html": [
       "\n",
       "<div id=\"altair-viz-dd984d84be1a4eb4946b096fd21ff9d9\"></div>\n",
       "<script type=\"text/javascript\">\n",
       "  var VEGA_DEBUG = (typeof VEGA_DEBUG == \"undefined\") ? {} : VEGA_DEBUG;\n",
       "  (function(spec, embedOpt){\n",
       "    let outputDiv = document.currentScript.previousElementSibling;\n",
       "    if (outputDiv.id !== \"altair-viz-dd984d84be1a4eb4946b096fd21ff9d9\") {\n",
       "      outputDiv = document.getElementById(\"altair-viz-dd984d84be1a4eb4946b096fd21ff9d9\");\n",
       "    }\n",
       "    const paths = {\n",
       "      \"vega\": \"https://cdn.jsdelivr.net/npm//vega@5?noext\",\n",
       "      \"vega-lib\": \"https://cdn.jsdelivr.net/npm//vega-lib?noext\",\n",
       "      \"vega-lite\": \"https://cdn.jsdelivr.net/npm//vega-lite@4.17.0?noext\",\n",
       "      \"vega-embed\": \"https://cdn.jsdelivr.net/npm//vega-embed@6?noext\",\n",
       "    };\n",
       "\n",
       "    function maybeLoadScript(lib, version) {\n",
       "      var key = `${lib.replace(\"-\", \"\")}_version`;\n",
       "      return (VEGA_DEBUG[key] == version) ?\n",
       "        Promise.resolve(paths[lib]) :\n",
       "        new Promise(function(resolve, reject) {\n",
       "          var s = document.createElement('script');\n",
       "          document.getElementsByTagName(\"head\")[0].appendChild(s);\n",
       "          s.async = true;\n",
       "          s.onload = () => {\n",
       "            VEGA_DEBUG[key] = version;\n",
       "            return resolve(paths[lib]);\n",
       "          };\n",
       "          s.onerror = () => reject(`Error loading script: ${paths[lib]}`);\n",
       "          s.src = paths[lib];\n",
       "        });\n",
       "    }\n",
       "\n",
       "    function showError(err) {\n",
       "      outputDiv.innerHTML = `<div class=\"error\" style=\"color:red;\">${err}</div>`;\n",
       "      throw err;\n",
       "    }\n",
       "\n",
       "    function displayChart(vegaEmbed) {\n",
       "      vegaEmbed(outputDiv, spec, embedOpt)\n",
       "        .catch(err => showError(`Javascript Error: ${err.message}<br>This usually means there's a typo in your chart specification. See the javascript console for the full traceback.`));\n",
       "    }\n",
       "\n",
       "    if(typeof define === \"function\" && define.amd) {\n",
       "      requirejs.config({paths});\n",
       "      require([\"vega-embed\"], displayChart, err => showError(`Error loading script: ${err.message}`));\n",
       "    } else {\n",
       "      maybeLoadScript(\"vega\", \"5\")\n",
       "        .then(() => maybeLoadScript(\"vega-lite\", \"4.17.0\"))\n",
       "        .then(() => maybeLoadScript(\"vega-embed\", \"6\"))\n",
       "        .catch(showError)\n",
       "        .then(() => displayChart(vegaEmbed));\n",
       "    }\n",
       "  })({\"config\": {\"view\": {\"continuousWidth\": 400, \"continuousHeight\": 300}}, \"data\": {\"name\": \"data-5956c033663e8be6ff0e7d746a9913e7\"}, \"mark\": \"bar\", \"encoding\": {\"color\": {\"condition\": {\"value\": \"steelblue\", \"test\": \"(datum.total_transactions_pct_diff > 0)\"}, \"value\": \"orange\"}, \"size\": {\"field\": \"total_transactions_2021\", \"scale\": {\"range\": [0, 30]}, \"title\": \"6 July 2021 Transaction Volume\", \"type\": \"quantitative\"}, \"tooltip\": [{\"field\": \"address_category\", \"title\": \"Address Category\", \"type\": \"nominal\"}, {\"field\": \"total_transactions_pct_diff\", \"format\": \".2%\", \"title\": \"6 July 2022 vs 2021 % Diff\", \"type\": \"quantitative\"}, {\"field\": \"total_transactions_2022\", \"format\": \",\", \"title\": \"6 July 2022 Transactions\", \"type\": \"quantitative\"}, {\"field\": \"total_transactions_2021\", \"format\": \",\", \"title\": \"6 July 2021 Transactions\", \"type\": \"quantitative\"}], \"x\": {\"axis\": {\"format\": \"%\"}, \"field\": \"total_transactions_pct_diff\", \"title\": \"6 July 2022 vs 6 July 2021 Transactions % Difference\", \"type\": \"quantitative\"}, \"y\": {\"field\": \"address_category\", \"sort\": \"x\", \"title\": \"Address Category\", \"type\": \"nominal\"}}, \"height\": 500, \"title\": \"Chart 3 - Users with unidentified address labels showed a 73% decrease in transactions for 6 July 2022 vs 2021\", \"width\": 700, \"$schema\": \"https://vega.github.io/schema/vega-lite/v4.17.0.json\", \"datasets\": {\"data-5956c033663e8be6ff0e7d746a9913e7\": [{\"address_category\": \"exchange\", \"total_transactions_2021\": 197613, \"total_transactions_2022\": 92530, \"total_value_eth_2021\": 472939.246239039, \"total_value_eth_2022\": 312353.1050574708, \"total_transactions_pct_diff\": -0.5317615743903488, \"total_value_eth_pct_diff\": -0.33954919677019724, \"value_per_transaction_2021\": 2.393259786750057, \"value_per_transaction_2022\": 3.375695504781917, \"value_per_txn_pct_diff\": 0.4105010761769263}, {\"address_category\": \"miner\", \"total_transactions_2021\": 61600, \"total_transactions_2022\": 33617, \"total_value_eth_2021\": 13332.374089058667, \"total_value_eth_2022\": 8290.806485890322, \"total_transactions_pct_diff\": -0.4542694805194806, \"total_value_eth_pct_diff\": -0.3781447752284234, \"value_per_transaction_2021\": 0.21643464430290044, \"value_per_transaction_2022\": 0.24662541231788446, \"value_per_txn_pct_diff\": 0.13949138370256486}, {\"address_category\": \"no label\", \"total_transactions_2021\": 33066, \"total_transactions_2022\": 8829, \"total_value_eth_2021\": 1888.5941294435654, \"total_value_eth_2022\": 2042.9934579588828, \"total_transactions_pct_diff\": -0.7329885683179096, \"total_value_eth_pct_diff\": 0.08175357855253318, \"value_per_transaction_2021\": 0.05711589334795758, \"value_per_transaction_2022\": 0.2313957931769037, \"value_per_txn_pct_diff\": 3.0513380709500577}]}}, {\"mode\": \"vega-lite\"});\n",
       "</script>"
      ],
      "text/plain": [
       "alt.Chart(...)"
      ]
     },
     "execution_count": 26,
     "metadata": {},
     "output_type": "execute_result"
    }
   ],
   "source": [
    "#collapse\n",
    "alt.Chart(df_agg_category_pivot.reset_index()).mark_bar().encode(\n",
    "    x=alt.X('total_transactions_pct_diff:Q', title='6 July 2022 vs 6 July 2021 Transactions % Difference', axis=alt.Axis(format='%')),\n",
    "    y=alt.Y('address_category', sort='x', title='Address Category'),\n",
    "    size=alt.Size('total_transactions_2021:Q', title='6 July 2021 Transaction Volume', scale=alt.Scale(range=[0,30])),\n",
    "    color=alt.condition(\n",
    "        alt.datum.total_transactions_pct_diff > 0,\n",
    "        alt.value(\"steelblue\"),\n",
    "        alt.value(\"orange\")),\n",
    "    tooltip=[alt.Tooltip('address_category', title='Address Category'),\n",
    "             alt.Tooltip('total_transactions_pct_diff', title='6 July 2022 vs 2021 % Diff', format='.2%'), \n",
    "             alt.Tooltip('total_transactions_2022', format=',', title='6 July 2022 Transactions'),\n",
    "             alt.Tooltip('total_transactions_2021', format=',', title='6 July 2021 Transactions')]\n",
    ").properties(\n",
    "    height=500,\n",
    "    width=700,\n",
    "    title='Chart 3 - Users with unidentified address labels showed a 73% decrease in transactions for 6 July 2022 vs 2021'\n",
    ")"
   ]
  },
  {
   "cell_type": "markdown",
   "id": "950b2043-c932-4225-a2ec-7fb763ca0691",
   "metadata": {},
   "source": [
    "Aggregate The top 50 addresses by their address names (labels) for 6 July 2021 and 6 July 2022\n",
    "- As mentioned above, there can be multiple addresses from the same organization/user. So we will group them into a single address name by doing another aggregation."
   ]
  },
  {
   "cell_type": "code",
   "execution_count": 27,
   "id": "87927d10-3907-4d50-8ead-c37341f532b7",
   "metadata": {},
   "outputs": [],
   "source": [
    "df_agg_label = df_agg.sort_values(by='total_transactions', ascending=False).iloc[:50,:].groupby(['address_label','year']).agg({'total_transactions':'sum','total_value_eth':'sum'})"
   ]
  },
  {
   "cell_type": "markdown",
   "id": "5a3c8123-7ab6-4347-87f2-ecd17f3b494d",
   "metadata": {},
   "source": [
    "Create Year-Over-Year calculations and pivot the dataset"
   ]
  },
  {
   "cell_type": "code",
   "execution_count": 28,
   "id": "1dc916d0-ccc3-4e3e-a06d-f53767f66a4d",
   "metadata": {},
   "outputs": [],
   "source": [
    "df_agg_label_pivot = df_agg_label.pivot_table(index='address_label', columns='year')\n",
    "df_agg_label_pivot.columns = ['total_transactions_2021','total_transactions_2022','total_value_eth_2021','total_value_eth_2022']\n",
    "df_agg_label_pivot.reset_index(inplace=True)\n",
    "df_agg_label_pivot.fillna(0, inplace=True)\n",
    "\n",
    "#Create additional calculations\n",
    "df_agg_label_pivot['total_transactions_pct_diff'] = df_agg_label_pivot['total_transactions_2022']/df_agg_label_pivot['total_transactions_2021']-1\n",
    "df_agg_label_pivot['total_value_eth_pct_diff'] = df_agg_label_pivot['total_value_eth_2022']/df_agg_label_pivot['total_value_eth_2021']-1\n",
    "df_agg_label_pivot['value_per_transaction_2021'] = df_agg_label_pivot['total_value_eth_2021']/df_agg_label_pivot['total_transactions_2021']\n",
    "df_agg_label_pivot['value_per_transaction_2022'] = df_agg_label_pivot['total_value_eth_2022']/df_agg_label_pivot['total_transactions_2022']\n",
    "df_agg_label_pivot['value_per_txn_pct_diff'] = df_agg_label_pivot['value_per_transaction_2022']/df_agg_label_pivot['value_per_transaction_2021']-1\n",
    "\n",
    "#Replace infinite values with NaN\n",
    "df_agg_label_pivot.replace(np.inf, np.nan, inplace=True)\n",
    "df_agg_label_pivot.set_index('address_label', inplace=True)"
   ]
  },
  {
   "cell_type": "markdown",
   "id": "7fbaf03c-b99d-410c-bd05-9a8edec238d1",
   "metadata": {},
   "source": [
    "Examine the first 5 rows"
   ]
  },
  {
   "cell_type": "code",
   "execution_count": 29,
   "id": "967c25f0-bf66-4139-a43b-fa409e01ecee",
   "metadata": {},
   "outputs": [
    {
     "data": {
      "text/html": [
       "<div>\n",
       "<style scoped>\n",
       "    .dataframe tbody tr th:only-of-type {\n",
       "        vertical-align: middle;\n",
       "    }\n",
       "\n",
       "    .dataframe tbody tr th {\n",
       "        vertical-align: top;\n",
       "    }\n",
       "\n",
       "    .dataframe thead th {\n",
       "        text-align: right;\n",
       "    }\n",
       "</style>\n",
       "<table border=\"1\" class=\"dataframe\">\n",
       "  <thead>\n",
       "    <tr style=\"text-align: right;\">\n",
       "      <th></th>\n",
       "      <th>total_transactions_2021</th>\n",
       "      <th>total_transactions_2022</th>\n",
       "      <th>total_value_eth_2021</th>\n",
       "      <th>total_value_eth_2022</th>\n",
       "      <th>total_transactions_pct_diff</th>\n",
       "      <th>total_value_eth_pct_diff</th>\n",
       "      <th>value_per_transaction_2021</th>\n",
       "      <th>value_per_transaction_2022</th>\n",
       "      <th>value_per_txn_pct_diff</th>\n",
       "    </tr>\n",
       "    <tr>\n",
       "      <th>address_label</th>\n",
       "      <th></th>\n",
       "      <th></th>\n",
       "      <th></th>\n",
       "      <th></th>\n",
       "      <th></th>\n",
       "      <th></th>\n",
       "      <th></th>\n",
       "      <th></th>\n",
       "      <th></th>\n",
       "    </tr>\n",
       "  </thead>\n",
       "  <tbody>\n",
       "    <tr>\n",
       "      <th>2Miners: PPLNS</th>\n",
       "      <td>9007.0000</td>\n",
       "      <td>4661.0000</td>\n",
       "      <td>805.2077</td>\n",
       "      <td>961.9955</td>\n",
       "      <td>-0.4825</td>\n",
       "      <td>0.1947</td>\n",
       "      <td>0.0894</td>\n",
       "      <td>0.2064</td>\n",
       "      <td>1.3087</td>\n",
       "    </tr>\n",
       "    <tr>\n",
       "      <th>BeePool</th>\n",
       "      <td>6347.0000</td>\n",
       "      <td>0.0000</td>\n",
       "      <td>867.6726</td>\n",
       "      <td>0.0000</td>\n",
       "      <td>-1.0000</td>\n",
       "      <td>-1.0000</td>\n",
       "      <td>0.1367</td>\n",
       "      <td>NaN</td>\n",
       "      <td>NaN</td>\n",
       "    </tr>\n",
       "    <tr>\n",
       "      <th>Binance</th>\n",
       "      <td>90505.0000</td>\n",
       "      <td>26033.0000</td>\n",
       "      <td>325242.7870</td>\n",
       "      <td>165070.8563</td>\n",
       "      <td>-0.7124</td>\n",
       "      <td>-0.4925</td>\n",
       "      <td>3.5936</td>\n",
       "      <td>6.3408</td>\n",
       "      <td>0.7645</td>\n",
       "    </tr>\n",
       "    <tr>\n",
       "      <th>BlockFi</th>\n",
       "      <td>6986.0000</td>\n",
       "      <td>0.0000</td>\n",
       "      <td>0.0000</td>\n",
       "      <td>0.0000</td>\n",
       "      <td>-1.0000</td>\n",
       "      <td>NaN</td>\n",
       "      <td>0.0000</td>\n",
       "      <td>NaN</td>\n",
       "      <td>NaN</td>\n",
       "    </tr>\n",
       "    <tr>\n",
       "      <th>Coinbase</th>\n",
       "      <td>65251.0000</td>\n",
       "      <td>45881.0000</td>\n",
       "      <td>97064.3755</td>\n",
       "      <td>93370.4280</td>\n",
       "      <td>-0.2969</td>\n",
       "      <td>-0.0381</td>\n",
       "      <td>1.4876</td>\n",
       "      <td>2.0351</td>\n",
       "      <td>0.3681</td>\n",
       "    </tr>\n",
       "  </tbody>\n",
       "</table>\n",
       "</div>"
      ],
      "text/plain": [
       "                total_transactions_2021  total_transactions_2022  \\\n",
       "address_label                                                      \n",
       "2Miners: PPLNS                9007.0000                4661.0000   \n",
       "BeePool                       6347.0000                   0.0000   \n",
       "Binance                      90505.0000               26033.0000   \n",
       "BlockFi                       6986.0000                   0.0000   \n",
       "Coinbase                     65251.0000               45881.0000   \n",
       "\n",
       "                total_value_eth_2021  total_value_eth_2022  \\\n",
       "address_label                                                \n",
       "2Miners: PPLNS              805.2077              961.9955   \n",
       "BeePool                     867.6726                0.0000   \n",
       "Binance                  325242.7870           165070.8563   \n",
       "BlockFi                       0.0000                0.0000   \n",
       "Coinbase                  97064.3755            93370.4280   \n",
       "\n",
       "                total_transactions_pct_diff  total_value_eth_pct_diff  \\\n",
       "address_label                                                           \n",
       "2Miners: PPLNS                      -0.4825                    0.1947   \n",
       "BeePool                             -1.0000                   -1.0000   \n",
       "Binance                             -0.7124                   -0.4925   \n",
       "BlockFi                             -1.0000                       NaN   \n",
       "Coinbase                            -0.2969                   -0.0381   \n",
       "\n",
       "                value_per_transaction_2021  value_per_transaction_2022  \\\n",
       "address_label                                                            \n",
       "2Miners: PPLNS                      0.0894                      0.2064   \n",
       "BeePool                             0.1367                         NaN   \n",
       "Binance                             3.5936                      6.3408   \n",
       "BlockFi                             0.0000                         NaN   \n",
       "Coinbase                            1.4876                      2.0351   \n",
       "\n",
       "                value_per_txn_pct_diff  \n",
       "address_label                           \n",
       "2Miners: PPLNS                  1.3087  \n",
       "BeePool                            NaN  \n",
       "Binance                         0.7645  \n",
       "BlockFi                            NaN  \n",
       "Coinbase                        0.3681  "
      ]
     },
     "execution_count": 29,
     "metadata": {},
     "output_type": "execute_result"
    }
   ],
   "source": [
    "df_agg_label_pivot.head()"
   ]
  },
  {
   "cell_type": "markdown",
   "id": "7c0285da-f7be-4d5f-8af8-65d96611394c",
   "metadata": {},
   "source": [
    "### Chart 4: Year-Over-Year by Address Names 6 July 2022 vs 6 July 2021\n",
    "[Back to Summary](https://interuniverse.github.io/scratching-the-surface/2022/07/25/ethereum-txn-eda.html#Summary)"
   ]
  },
  {
   "cell_type": "code",
   "execution_count": 30,
   "id": "fe57eab1-00ef-4f08-8d9b-0bf277cc18a5",
   "metadata": {
    "tags": []
   },
   "outputs": [
    {
     "data": {
      "text/html": [
       "\n",
       "<div id=\"altair-viz-6382ce45ce4f4e5ea40adc1c7b22739c\"></div>\n",
       "<script type=\"text/javascript\">\n",
       "  var VEGA_DEBUG = (typeof VEGA_DEBUG == \"undefined\") ? {} : VEGA_DEBUG;\n",
       "  (function(spec, embedOpt){\n",
       "    let outputDiv = document.currentScript.previousElementSibling;\n",
       "    if (outputDiv.id !== \"altair-viz-6382ce45ce4f4e5ea40adc1c7b22739c\") {\n",
       "      outputDiv = document.getElementById(\"altair-viz-6382ce45ce4f4e5ea40adc1c7b22739c\");\n",
       "    }\n",
       "    const paths = {\n",
       "      \"vega\": \"https://cdn.jsdelivr.net/npm//vega@5?noext\",\n",
       "      \"vega-lib\": \"https://cdn.jsdelivr.net/npm//vega-lib?noext\",\n",
       "      \"vega-lite\": \"https://cdn.jsdelivr.net/npm//vega-lite@4.17.0?noext\",\n",
       "      \"vega-embed\": \"https://cdn.jsdelivr.net/npm//vega-embed@6?noext\",\n",
       "    };\n",
       "\n",
       "    function maybeLoadScript(lib, version) {\n",
       "      var key = `${lib.replace(\"-\", \"\")}_version`;\n",
       "      return (VEGA_DEBUG[key] == version) ?\n",
       "        Promise.resolve(paths[lib]) :\n",
       "        new Promise(function(resolve, reject) {\n",
       "          var s = document.createElement('script');\n",
       "          document.getElementsByTagName(\"head\")[0].appendChild(s);\n",
       "          s.async = true;\n",
       "          s.onload = () => {\n",
       "            VEGA_DEBUG[key] = version;\n",
       "            return resolve(paths[lib]);\n",
       "          };\n",
       "          s.onerror = () => reject(`Error loading script: ${paths[lib]}`);\n",
       "          s.src = paths[lib];\n",
       "        });\n",
       "    }\n",
       "\n",
       "    function showError(err) {\n",
       "      outputDiv.innerHTML = `<div class=\"error\" style=\"color:red;\">${err}</div>`;\n",
       "      throw err;\n",
       "    }\n",
       "\n",
       "    function displayChart(vegaEmbed) {\n",
       "      vegaEmbed(outputDiv, spec, embedOpt)\n",
       "        .catch(err => showError(`Javascript Error: ${err.message}<br>This usually means there's a typo in your chart specification. See the javascript console for the full traceback.`));\n",
       "    }\n",
       "\n",
       "    if(typeof define === \"function\" && define.amd) {\n",
       "      requirejs.config({paths});\n",
       "      require([\"vega-embed\"], displayChart, err => showError(`Error loading script: ${err.message}`));\n",
       "    } else {\n",
       "      maybeLoadScript(\"vega\", \"5\")\n",
       "        .then(() => maybeLoadScript(\"vega-lite\", \"4.17.0\"))\n",
       "        .then(() => maybeLoadScript(\"vega-embed\", \"6\"))\n",
       "        .catch(showError)\n",
       "        .then(() => displayChart(vegaEmbed));\n",
       "    }\n",
       "  })({\"config\": {\"view\": {\"continuousWidth\": 400, \"continuousHeight\": 300}}, \"data\": {\"name\": \"data-b90014e139eeb7fecef619972ca703b8\"}, \"mark\": \"bar\", \"encoding\": {\"color\": {\"condition\": {\"value\": \"steelblue\", \"test\": \"(datum.total_transactions_pct_diff > 0)\"}, \"value\": \"orange\"}, \"size\": {\"field\": \"total_transactions_2021\", \"scale\": {\"range\": [0, 30]}, \"title\": \"6 July 2021 Transaction Volume\", \"type\": \"quantitative\"}, \"tooltip\": [{\"field\": \"address_label\", \"title\": \"Address Name\", \"type\": \"nominal\"}, {\"field\": \"total_transactions_pct_diff\", \"format\": \".2%\", \"title\": \"6 July 2022 vs 2021 % Diff\", \"type\": \"quantitative\"}, {\"field\": \"total_transactions_2022\", \"format\": \",\", \"title\": \"6 July 2022 Transactions\", \"type\": \"quantitative\"}, {\"field\": \"total_transactions_2021\", \"format\": \",\", \"title\": \"6 July 2021 Transactions\", \"type\": \"quantitative\"}], \"x\": {\"axis\": {\"format\": \"%\"}, \"field\": \"total_transactions_pct_diff\", \"title\": \"6 July 2022 vs 6 July 2021 Transactions % Difference\", \"type\": \"quantitative\"}, \"y\": {\"field\": \"address_label\", \"sort\": \"x\", \"title\": \"Addresses\", \"type\": \"nominal\"}}, \"height\": 600, \"title\": \"Chart 4 - Out of the top 50 addresses only FTX (a crypto exchange), showed a 177% increase in transactions for 6 July 2022 vs 2021\", \"width\": 700, \"$schema\": \"https://vega.github.io/schema/vega-lite/v4.17.0.json\", \"datasets\": {\"data-b90014e139eeb7fecef619972ca703b8\": [{\"address_label\": \"2Miners: PPLNS\", \"total_transactions_2021\": 9007.0, \"total_transactions_2022\": 4661.0, \"total_value_eth_2021\": 805.207741546, \"total_value_eth_2022\": 961.9954971029999, \"total_transactions_pct_diff\": -0.4825136005329188, \"total_value_eth_pct_diff\": 0.19471714871489842, \"value_per_transaction_2021\": 0.08939799506450538, \"value_per_transaction_2022\": 0.20639251171486803, \"value_per_txn_pct_diff\": 1.308692846701371}, {\"address_label\": \"BeePool\", \"total_transactions_2021\": 6347.0, \"total_transactions_2022\": 0.0, \"total_value_eth_2021\": 867.67257, \"total_value_eth_2022\": 0.0, \"total_transactions_pct_diff\": -1.0, \"total_value_eth_pct_diff\": -1.0, \"value_per_transaction_2021\": 0.1367059350874429, \"value_per_transaction_2022\": null, \"value_per_txn_pct_diff\": null}, {\"address_label\": \"Binance\", \"total_transactions_2021\": 90505.0, \"total_transactions_2022\": 26033.0, \"total_value_eth_2021\": 325242.78704620997, \"total_value_eth_2022\": 165070.85631193, \"total_transactions_pct_diff\": -0.7123584332357329, \"total_value_eth_pct_diff\": -0.4924688174914791, \"value_per_transaction_2021\": 3.5936444068969666, \"value_per_transaction_2022\": 6.340831110971843, \"value_per_txn_pct_diff\": 0.7644570227378207}, {\"address_label\": \"BlockFi\", \"total_transactions_2021\": 6986.0, \"total_transactions_2022\": 0.0, \"total_value_eth_2021\": 0.0, \"total_value_eth_2022\": 0.0, \"total_transactions_pct_diff\": -1.0, \"total_value_eth_pct_diff\": null, \"value_per_transaction_2021\": 0.0, \"value_per_transaction_2022\": null, \"value_per_txn_pct_diff\": null}, {\"address_label\": \"Coinbase\", \"total_transactions_2021\": 65251.0, \"total_transactions_2022\": 45881.0, \"total_value_eth_2021\": 97064.37545876014, \"total_value_eth_2022\": 93370.42798035343, \"total_transactions_pct_diff\": -0.29685368806608325, \"total_value_eth_pct_diff\": -0.03805667590140904, \"value_per_transaction_2021\": 1.4875538376233337, \"value_per_transaction_2022\": 2.0350565153408477, \"value_per_txn_pct_diff\": 0.3680557058642393}, {\"address_label\": \"Crypto.com\", \"total_transactions_2021\": 17182.0, \"total_transactions_2022\": 7354.0, \"total_value_eth_2021\": 4324.638217418021, \"total_value_eth_2022\": 4609.642168927356, \"total_transactions_pct_diff\": -0.5719939471539983, \"total_value_eth_pct_diff\": 0.06590238007920424, \"value_per_transaction_2021\": 0.2516958571422431, \"value_per_transaction_2022\": 0.6268210727396458, \"value_per_txn_pct_diff\": 1.490390902164929}, {\"address_label\": \"Ethermine\", \"total_transactions_2021\": 20714.0, \"total_transactions_2022\": 18967.0, \"total_value_eth_2021\": 5344.927707614215, \"total_value_eth_2022\": 3983.203973743854, \"total_transactions_pct_diff\": -0.08433909433233566, \"total_value_eth_pct_diff\": -0.25476934551060304, \"value_per_transaction_2021\": 0.2580345518786432, \"value_per_transaction_2022\": 0.2100070635178918, \"value_per_txn_pct_diff\": -0.18612812900862719}, {\"address_label\": \"F2Pool Old\", \"total_transactions_2021\": 5685.0, \"total_transactions_2022\": 3298.0, \"total_value_eth_2021\": 1252.032787717207, \"total_value_eth_2022\": 1830.9623723343698, \"total_transactions_pct_diff\": -0.41987686895338605, \"total_value_eth_pct_diff\": 0.46239171233902554, \"value_per_transaction_2021\": 0.2202344393521912, \"value_per_transaction_2022\": 0.5551735513445633, \"value_per_txn_pct_diff\": 1.5208298619306726}, {\"address_label\": \"FTX Exchange\", \"total_transactions_2021\": 4796.0, \"total_transactions_2022\": 13262.0, \"total_value_eth_2021\": 53.04, \"total_value_eth_2022\": 49302.17859626, \"total_transactions_pct_diff\": 1.7652210175145955, \"total_value_eth_pct_diff\": 928.5282540773001, \"value_per_transaction_2021\": 0.011059216013344454, \"value_per_transaction_2022\": 3.7175522995219423, \"value_per_txn_pct_diff\": 335.1497139612978}, {\"address_label\": \"Gate.io\", \"total_transactions_2021\": 5300.0, \"total_transactions_2022\": 0.0, \"total_value_eth_2021\": 3874.3286134572, \"total_value_eth_2022\": 0.0, \"total_transactions_pct_diff\": -1.0, \"total_value_eth_pct_diff\": -1.0, \"value_per_transaction_2021\": 0.7310053987655094, \"value_per_transaction_2022\": null, \"value_per_txn_pct_diff\": null}, {\"address_label\": \"Gemini\", \"total_transactions_2021\": 3640.0, \"total_transactions_2022\": 0.0, \"total_value_eth_2021\": 42380.076903193665, \"total_value_eth_2022\": 0.0, \"total_transactions_pct_diff\": -1.0, \"total_value_eth_pct_diff\": -1.0, \"value_per_transaction_2021\": 11.64287827010815, \"value_per_transaction_2022\": null, \"value_per_txn_pct_diff\": null}, {\"address_label\": \"Hiveon Pool\", \"total_transactions_2021\": 7210.0, \"total_transactions_2022\": 0.0, \"total_value_eth_2021\": 981.845327532, \"total_value_eth_2022\": 0.0, \"total_transactions_pct_diff\": -1.0, \"total_value_eth_pct_diff\": -1.0, \"value_per_transaction_2021\": 0.1361782701153953, \"value_per_transaction_2022\": null, \"value_per_txn_pct_diff\": null}, {\"address_label\": \"KuCoin\", \"total_transactions_2021\": 3953.0, \"total_transactions_2022\": 0.0, \"total_value_eth_2021\": 0.0, \"total_value_eth_2022\": 0.0, \"total_transactions_pct_diff\": -1.0, \"total_value_eth_pct_diff\": null, \"value_per_transaction_2021\": 0.0, \"value_per_transaction_2022\": null, \"value_per_txn_pct_diff\": null}, {\"address_label\": \"Nanopool\", \"total_transactions_2021\": 5049.0, \"total_transactions_2022\": 0.0, \"total_value_eth_2021\": 860.9277666027583, \"total_value_eth_2022\": 0.0, \"total_transactions_pct_diff\": -1.0, \"total_value_eth_pct_diff\": -1.0, \"value_per_transaction_2021\": 0.1705145111116574, \"value_per_transaction_2022\": null, \"value_per_txn_pct_diff\": null}, {\"address_label\": \"No Label\", \"total_transactions_2021\": 33066.0, \"total_transactions_2022\": 8829.0, \"total_value_eth_2021\": 1888.5941294435654, \"total_value_eth_2022\": 2042.9934579588828, \"total_transactions_pct_diff\": -0.7329885683179096, \"total_value_eth_pct_diff\": 0.08175357855253318, \"value_per_transaction_2021\": 0.05711589334795758, \"value_per_transaction_2022\": 0.2313957931769037, \"value_per_txn_pct_diff\": 3.0513380709500577}, {\"address_label\": \"Spark Pool: Distributor\", \"total_transactions_2021\": 7588.0, \"total_transactions_2022\": 0.0, \"total_value_eth_2021\": 3219.760188046487, \"total_value_eth_2022\": 0.0, \"total_transactions_pct_diff\": -1.0, \"total_value_eth_pct_diff\": -1.0, \"value_per_transaction_2021\": 0.4243226394368064, \"value_per_transaction_2022\": null, \"value_per_txn_pct_diff\": null}]}}, {\"mode\": \"vega-lite\"});\n",
       "</script>"
      ],
      "text/plain": [
       "alt.Chart(...)"
      ]
     },
     "execution_count": 30,
     "metadata": {},
     "output_type": "execute_result"
    }
   ],
   "source": [
    "#collapse\n",
    "alt.Chart(df_agg_label_pivot.dropna(subset='total_transactions_pct_diff').reset_index()).mark_bar().encode(\n",
    "    x=alt.X('total_transactions_pct_diff:Q', title='6 July 2022 vs 6 July 2021 Transactions % Difference', axis=alt.Axis(format='%')),\n",
    "    y=alt.Y('address_label', sort='x', title='Addresses'),\n",
    "    size=alt.Size('total_transactions_2021:Q', title='6 July 2021 Transaction Volume', scale=alt.Scale(range=[0,30])),\n",
    "    color=alt.condition(\n",
    "        alt.datum.total_transactions_pct_diff > 0,\n",
    "        alt.value(\"steelblue\"),\n",
    "        alt.value(\"orange\")),\n",
    "    tooltip=[alt.Tooltip('address_label', title='Address Name'),\n",
    "             alt.Tooltip('total_transactions_pct_diff', title='6 July 2022 vs 2021 % Diff', format='.2%'), \n",
    "             alt.Tooltip('total_transactions_2022', format=',', title='6 July 2022 Transactions'),\n",
    "             alt.Tooltip('total_transactions_2021', format=',', title='6 July 2021 Transactions')]\n",
    ").properties(\n",
    "    height=600,\n",
    "    width=700,\n",
    "    title='Chart 4 - Out of the top 50 addresses only FTX (a crypto exchange), showed a 177% increase in transactions for 6 July 2022 vs 2021'\n",
    ")"
   ]
  },
  {
   "cell_type": "markdown",
   "id": "5d1ba051-d680-4bfd-9677-80044c59b71f",
   "metadata": {},
   "source": [
    "What does the above charts tell us?\n",
    "- From the chart above, we can see that there are 3 groups: **miners**, **crypto exchanges** and **No Label**.\n",
    "  - Miners: BeePool, Hiveon Pool, Nanopool, Spark Pool, 2Miners, F2Pool and Ethermine.\n",
    "  - Exchanges: BlockFi, Gate.io, Gemini, KuCoin, Binance, Crypto.com, Coinbase and FTX.\n",
    "  - No Label: User(s) or organization(s) where there is no name/label given to their addresses in [etherscan](https://etherscan.io/).\n",
    "- The bars in orange, are from the Top 50 addresses contributing to the overall decline of transactions on 6 July 2022.\n",
    "  - For e.g., (if you hover on the bar for Binance), the number of transactions from Binance addresses dropped by 71% in 6 July 2022 compared to same date last year.\n",
    "  - Also, the thickness of the bar tells us that it has the highest volume of transactions on 6 July 2021, around 90K.\n",
    "- There was a 177% increase in transactions from FTX, though the volume is relatively small compared to the rest."
   ]
  },
  {
   "cell_type": "markdown",
   "id": "f037f2c4-c710-48c5-9579-b3196280afd5",
   "metadata": {},
   "source": [
    "If we exclude FTX and include the total Ethereum (ETH) transacted in the chart"
   ]
  },
  {
   "cell_type": "code",
   "execution_count": 31,
   "id": "fa9ac17e-8c31-4ebd-add4-7025aff9cd86",
   "metadata": {},
   "outputs": [],
   "source": [
    "df_agg_label_pivot_excl = df_agg_label_pivot.dropna(subset='total_transactions_pct_diff').query('total_transactions_pct_diff < 0').reset_index()"
   ]
  },
  {
   "cell_type": "code",
   "execution_count": 32,
   "id": "0c7e9f88-4193-4b39-b977-dbd65f357d69",
   "metadata": {},
   "outputs": [
    {
     "data": {
      "text/html": [
       "\n",
       "<div id=\"altair-viz-c5b6e1970a144290ad82391b1ad0978a\"></div>\n",
       "<script type=\"text/javascript\">\n",
       "  var VEGA_DEBUG = (typeof VEGA_DEBUG == \"undefined\") ? {} : VEGA_DEBUG;\n",
       "  (function(spec, embedOpt){\n",
       "    let outputDiv = document.currentScript.previousElementSibling;\n",
       "    if (outputDiv.id !== \"altair-viz-c5b6e1970a144290ad82391b1ad0978a\") {\n",
       "      outputDiv = document.getElementById(\"altair-viz-c5b6e1970a144290ad82391b1ad0978a\");\n",
       "    }\n",
       "    const paths = {\n",
       "      \"vega\": \"https://cdn.jsdelivr.net/npm//vega@5?noext\",\n",
       "      \"vega-lib\": \"https://cdn.jsdelivr.net/npm//vega-lib?noext\",\n",
       "      \"vega-lite\": \"https://cdn.jsdelivr.net/npm//vega-lite@4.17.0?noext\",\n",
       "      \"vega-embed\": \"https://cdn.jsdelivr.net/npm//vega-embed@6?noext\",\n",
       "    };\n",
       "\n",
       "    function maybeLoadScript(lib, version) {\n",
       "      var key = `${lib.replace(\"-\", \"\")}_version`;\n",
       "      return (VEGA_DEBUG[key] == version) ?\n",
       "        Promise.resolve(paths[lib]) :\n",
       "        new Promise(function(resolve, reject) {\n",
       "          var s = document.createElement('script');\n",
       "          document.getElementsByTagName(\"head\")[0].appendChild(s);\n",
       "          s.async = true;\n",
       "          s.onload = () => {\n",
       "            VEGA_DEBUG[key] = version;\n",
       "            return resolve(paths[lib]);\n",
       "          };\n",
       "          s.onerror = () => reject(`Error loading script: ${paths[lib]}`);\n",
       "          s.src = paths[lib];\n",
       "        });\n",
       "    }\n",
       "\n",
       "    function showError(err) {\n",
       "      outputDiv.innerHTML = `<div class=\"error\" style=\"color:red;\">${err}</div>`;\n",
       "      throw err;\n",
       "    }\n",
       "\n",
       "    function displayChart(vegaEmbed) {\n",
       "      vegaEmbed(outputDiv, spec, embedOpt)\n",
       "        .catch(err => showError(`Javascript Error: ${err.message}<br>This usually means there's a typo in your chart specification. See the javascript console for the full traceback.`));\n",
       "    }\n",
       "\n",
       "    if(typeof define === \"function\" && define.amd) {\n",
       "      requirejs.config({paths});\n",
       "      require([\"vega-embed\"], displayChart, err => showError(`Error loading script: ${err.message}`));\n",
       "    } else {\n",
       "      maybeLoadScript(\"vega\", \"5\")\n",
       "        .then(() => maybeLoadScript(\"vega-lite\", \"4.17.0\"))\n",
       "        .then(() => maybeLoadScript(\"vega-embed\", \"6\"))\n",
       "        .catch(showError)\n",
       "        .then(() => displayChart(vegaEmbed));\n",
       "    }\n",
       "  })({\"config\": {\"view\": {\"continuousWidth\": 400, \"continuousHeight\": 300}}, \"layer\": [{\"mark\": \"bar\", \"encoding\": {\"color\": {\"condition\": {\"value\": \"steelblue\", \"test\": \"(datum.total_transactions_pct_diff > 0)\"}, \"value\": \"orange\"}, \"size\": {\"field\": \"total_transactions_2021\", \"scale\": {\"range\": [0, 30]}, \"title\": \"6 July 2021 Transaction Volume\", \"type\": \"quantitative\"}, \"tooltip\": [{\"field\": \"address_label\", \"title\": \"Address Name\", \"type\": \"nominal\"}, {\"field\": \"total_transactions_pct_diff\", \"format\": \".2%\", \"title\": \"6 July 2022 vs 2021 % Diff\", \"type\": \"quantitative\"}, {\"field\": \"total_transactions_2022\", \"format\": \",\", \"title\": \"6 July 2022 Transactions\", \"type\": \"quantitative\"}, {\"field\": \"total_transactions_2021\", \"format\": \",\", \"title\": \"6 July 2021 Transactions\", \"type\": \"quantitative\"}], \"x\": {\"axis\": {\"format\": \"%\"}, \"field\": \"total_transactions_pct_diff\", \"title\": \"6 July 2022 vs 6 July 2021 Transactions and ETH Value % Difference\", \"type\": \"quantitative\"}, \"y\": {\"field\": \"address_label\", \"sort\": \"x\", \"title\": \"Addresses\", \"type\": \"nominal\"}}, \"height\": 500, \"width\": 800}, {\"mark\": {\"type\": \"tick\", \"color\": \"slategray\", \"size\": 28.0, \"thickness\": 5}, \"encoding\": {\"tooltip\": [{\"field\": \"address_label\", \"title\": \"Address Name\", \"type\": \"nominal\"}, {\"field\": \"total_value_eth_pct_diff\", \"format\": \".2%\", \"title\": \"6 July 2022 vs 2021 ETH Transacted % Diff\", \"type\": \"quantitative\"}, {\"field\": \"total_value_eth_2022\", \"format\": \",\", \"title\": \"6 July 2022 Total ETH Transacted\", \"type\": \"quantitative\"}, {\"field\": \"total_value_eth_2021\", \"format\": \",\", \"title\": \"6 July 2021 Total ETH Transacted\", \"type\": \"quantitative\"}], \"x\": {\"axis\": {\"format\": \"%\"}, \"field\": \"total_value_eth_pct_diff\", \"type\": \"quantitative\"}, \"y\": {\"field\": \"address_label\", \"sort\": {\"field\": \"total_transactions_pct_diff\", \"order\": \"ascending\"}, \"title\": \"Addresses\", \"type\": \"nominal\"}}, \"height\": 600, \"title\": \"Chart 5 - Despite decrease in transactions, e.g. F2Pool Old, showed a 46% increase in number of ETH transacted on 6 July 2022 vs 2021\", \"width\": 700}], \"data\": {\"name\": \"data-0e02b80320c950dc67be1629b1f309a7\"}, \"$schema\": \"https://vega.github.io/schema/vega-lite/v4.17.0.json\", \"datasets\": {\"data-0e02b80320c950dc67be1629b1f309a7\": [{\"address_label\": \"2Miners: PPLNS\", \"total_transactions_2021\": 9007.0, \"total_transactions_2022\": 4661.0, \"total_value_eth_2021\": 805.207741546, \"total_value_eth_2022\": 961.9954971029999, \"total_transactions_pct_diff\": -0.4825136005329188, \"total_value_eth_pct_diff\": 0.19471714871489842, \"value_per_transaction_2021\": 0.08939799506450538, \"value_per_transaction_2022\": 0.20639251171486803, \"value_per_txn_pct_diff\": 1.308692846701371}, {\"address_label\": \"BeePool\", \"total_transactions_2021\": 6347.0, \"total_transactions_2022\": 0.0, \"total_value_eth_2021\": 867.67257, \"total_value_eth_2022\": 0.0, \"total_transactions_pct_diff\": -1.0, \"total_value_eth_pct_diff\": -1.0, \"value_per_transaction_2021\": 0.1367059350874429, \"value_per_transaction_2022\": null, \"value_per_txn_pct_diff\": null}, {\"address_label\": \"Binance\", \"total_transactions_2021\": 90505.0, \"total_transactions_2022\": 26033.0, \"total_value_eth_2021\": 325242.78704620997, \"total_value_eth_2022\": 165070.85631193, \"total_transactions_pct_diff\": -0.7123584332357329, \"total_value_eth_pct_diff\": -0.4924688174914791, \"value_per_transaction_2021\": 3.5936444068969666, \"value_per_transaction_2022\": 6.340831110971843, \"value_per_txn_pct_diff\": 0.7644570227378207}, {\"address_label\": \"BlockFi\", \"total_transactions_2021\": 6986.0, \"total_transactions_2022\": 0.0, \"total_value_eth_2021\": 0.0, \"total_value_eth_2022\": 0.0, \"total_transactions_pct_diff\": -1.0, \"total_value_eth_pct_diff\": null, \"value_per_transaction_2021\": 0.0, \"value_per_transaction_2022\": null, \"value_per_txn_pct_diff\": null}, {\"address_label\": \"Coinbase\", \"total_transactions_2021\": 65251.0, \"total_transactions_2022\": 45881.0, \"total_value_eth_2021\": 97064.37545876014, \"total_value_eth_2022\": 93370.42798035343, \"total_transactions_pct_diff\": -0.29685368806608325, \"total_value_eth_pct_diff\": -0.03805667590140904, \"value_per_transaction_2021\": 1.4875538376233337, \"value_per_transaction_2022\": 2.0350565153408477, \"value_per_txn_pct_diff\": 0.3680557058642393}, {\"address_label\": \"Crypto.com\", \"total_transactions_2021\": 17182.0, \"total_transactions_2022\": 7354.0, \"total_value_eth_2021\": 4324.638217418021, \"total_value_eth_2022\": 4609.642168927356, \"total_transactions_pct_diff\": -0.5719939471539983, \"total_value_eth_pct_diff\": 0.06590238007920424, \"value_per_transaction_2021\": 0.2516958571422431, \"value_per_transaction_2022\": 0.6268210727396458, \"value_per_txn_pct_diff\": 1.490390902164929}, {\"address_label\": \"Ethermine\", \"total_transactions_2021\": 20714.0, \"total_transactions_2022\": 18967.0, \"total_value_eth_2021\": 5344.927707614215, \"total_value_eth_2022\": 3983.203973743854, \"total_transactions_pct_diff\": -0.08433909433233566, \"total_value_eth_pct_diff\": -0.25476934551060304, \"value_per_transaction_2021\": 0.2580345518786432, \"value_per_transaction_2022\": 0.2100070635178918, \"value_per_txn_pct_diff\": -0.18612812900862719}, {\"address_label\": \"F2Pool Old\", \"total_transactions_2021\": 5685.0, \"total_transactions_2022\": 3298.0, \"total_value_eth_2021\": 1252.032787717207, \"total_value_eth_2022\": 1830.9623723343698, \"total_transactions_pct_diff\": -0.41987686895338605, \"total_value_eth_pct_diff\": 0.46239171233902554, \"value_per_transaction_2021\": 0.2202344393521912, \"value_per_transaction_2022\": 0.5551735513445633, \"value_per_txn_pct_diff\": 1.5208298619306726}, {\"address_label\": \"Gate.io\", \"total_transactions_2021\": 5300.0, \"total_transactions_2022\": 0.0, \"total_value_eth_2021\": 3874.3286134572, \"total_value_eth_2022\": 0.0, \"total_transactions_pct_diff\": -1.0, \"total_value_eth_pct_diff\": -1.0, \"value_per_transaction_2021\": 0.7310053987655094, \"value_per_transaction_2022\": null, \"value_per_txn_pct_diff\": null}, {\"address_label\": \"Gemini\", \"total_transactions_2021\": 3640.0, \"total_transactions_2022\": 0.0, \"total_value_eth_2021\": 42380.076903193665, \"total_value_eth_2022\": 0.0, \"total_transactions_pct_diff\": -1.0, \"total_value_eth_pct_diff\": -1.0, \"value_per_transaction_2021\": 11.64287827010815, \"value_per_transaction_2022\": null, \"value_per_txn_pct_diff\": null}, {\"address_label\": \"Hiveon Pool\", \"total_transactions_2021\": 7210.0, \"total_transactions_2022\": 0.0, \"total_value_eth_2021\": 981.845327532, \"total_value_eth_2022\": 0.0, \"total_transactions_pct_diff\": -1.0, \"total_value_eth_pct_diff\": -1.0, \"value_per_transaction_2021\": 0.1361782701153953, \"value_per_transaction_2022\": null, \"value_per_txn_pct_diff\": null}, {\"address_label\": \"KuCoin\", \"total_transactions_2021\": 3953.0, \"total_transactions_2022\": 0.0, \"total_value_eth_2021\": 0.0, \"total_value_eth_2022\": 0.0, \"total_transactions_pct_diff\": -1.0, \"total_value_eth_pct_diff\": null, \"value_per_transaction_2021\": 0.0, \"value_per_transaction_2022\": null, \"value_per_txn_pct_diff\": null}, {\"address_label\": \"Nanopool\", \"total_transactions_2021\": 5049.0, \"total_transactions_2022\": 0.0, \"total_value_eth_2021\": 860.9277666027583, \"total_value_eth_2022\": 0.0, \"total_transactions_pct_diff\": -1.0, \"total_value_eth_pct_diff\": -1.0, \"value_per_transaction_2021\": 0.1705145111116574, \"value_per_transaction_2022\": null, \"value_per_txn_pct_diff\": null}, {\"address_label\": \"No Label\", \"total_transactions_2021\": 33066.0, \"total_transactions_2022\": 8829.0, \"total_value_eth_2021\": 1888.5941294435654, \"total_value_eth_2022\": 2042.9934579588828, \"total_transactions_pct_diff\": -0.7329885683179096, \"total_value_eth_pct_diff\": 0.08175357855253318, \"value_per_transaction_2021\": 0.05711589334795758, \"value_per_transaction_2022\": 0.2313957931769037, \"value_per_txn_pct_diff\": 3.0513380709500577}, {\"address_label\": \"Spark Pool: Distributor\", \"total_transactions_2021\": 7588.0, \"total_transactions_2022\": 0.0, \"total_value_eth_2021\": 3219.760188046487, \"total_value_eth_2022\": 0.0, \"total_transactions_pct_diff\": -1.0, \"total_value_eth_pct_diff\": -1.0, \"value_per_transaction_2021\": 0.4243226394368064, \"value_per_transaction_2022\": null, \"value_per_txn_pct_diff\": null}]}}, {\"mode\": \"vega-lite\"});\n",
       "</script>"
      ],
      "text/plain": [
       "alt.LayerChart(...)"
      ]
     },
     "execution_count": 32,
     "metadata": {},
     "output_type": "execute_result"
    }
   ],
   "source": [
    "#collapse\n",
    "bar = alt.Chart(df_agg_label_pivot_excl).mark_bar().encode(\n",
    "    x=alt.X('total_transactions_pct_diff:Q', title='6 July 2022 vs 6 July 2021 Transactions and ETH Value % Difference', axis=alt.Axis(format='%')),\n",
    "    y=alt.Y('address_label', sort='x', title='Addresses'),\n",
    "    size=alt.Size('total_transactions_2021:Q', title='6 July 2021 Transaction Volume', scale=alt.Scale(range=[0,30])),\n",
    "    color=alt.condition(\n",
    "        alt.datum.total_transactions_pct_diff > 0,\n",
    "        alt.value(\"steelblue\"),\n",
    "        alt.value(\"orange\")),\n",
    "    tooltip=[alt.Tooltip('address_label', title='Address Name'),\n",
    "             alt.Tooltip('total_transactions_pct_diff', title='6 July 2022 vs 2021 % Diff', format='.2%'), \n",
    "             alt.Tooltip('total_transactions_2022', format=',', title='6 July 2022 Transactions'),\n",
    "             alt.Tooltip('total_transactions_2021', format=',', title='6 July 2021 Transactions')]\n",
    ").properties(\n",
    "    height=500,\n",
    "    width=800\n",
    ")\n",
    "\n",
    "\n",
    "tick = alt.Chart(df_agg_label_pivot_excl).mark_tick(\n",
    "    color='slategray',\n",
    "    thickness=5,\n",
    "    size=40 * 0.7\n",
    ").encode(\n",
    "         x=alt.X('total_value_eth_pct_diff', axis=alt.Axis(format='%')),\n",
    "         y=alt.Y('address_label', sort=alt.Sort(field='total_transactions_pct_diff', order='ascending'), title='Addresses'),\n",
    "         tooltip=[alt.Tooltip('address_label', title='Address Name'),\n",
    "                  alt.Tooltip('total_value_eth_pct_diff', title='6 July 2022 vs 2021 ETH Transacted % Diff', format='.2%'), \n",
    "                  alt.Tooltip('total_value_eth_2022', format=',', title='6 July 2022 Total ETH Transacted'),\n",
    "                  alt.Tooltip('total_value_eth_2021', format=',', title='6 July 2021 Total ETH Transacted')]\n",
    ").properties(\n",
    "    height=600,\n",
    "    width=700,\n",
    "    title='Chart 5 - Despite decrease in transactions, e.g. F2Pool Old, showed a 46% increase in number of ETH transacted on 6 July 2022 vs 2021'\n",
    ")\n",
    "\n",
    "bar + tick"
   ]
  },
  {
   "cell_type": "markdown",
   "id": "35a71a30-1e28-4892-90bf-6d75c84b55bc",
   "metadata": {},
   "source": [
    "What does the above chart tell us?\n",
    "- (Hover on the grey tick mark for F2Pool Old). We can see that there is almost a 46% **increase** in the number of ETH transacted on 6 July 2022 for F2Pool Old, despite 42% **decline** in actual number of transactions.\n",
    "- This meant that there was more ETH per transaction on 6 July 2022 and could be due to the lower price of ETH.\n",
    "- The closing price of ETH on 6 July 2021 was about USD$2,323 (AUD$3,097) and on 6 July 2022 was about USD$1,186 (AUD$1,744). See historical prices from [Messari](https://messari.io/asset/ethereum/historical).\n",
    "- So, an equivalent of USD$2.9 mil (AUD$3.9 mil) was transacted on 6 July 2021 and USD$2.1 mil (AUD$3.2 mil) on 6 July 2022 by F2Pool Old."
   ]
  },
  {
   "cell_type": "markdown",
   "id": "6c030a97-58c2-4d9a-97f5-22502b215fee",
   "metadata": {},
   "source": [
    "### Table: Total transactions, value in ETH and ETH per transaction\n",
    "[Back to Summary](https://interuniverse.github.io/scratching-the-surface/2022/07/25/ethereum-txn-eda.html#Summary)"
   ]
  },
  {
   "cell_type": "code",
   "execution_count": 33,
   "id": "fb23c31e-898e-4220-81f3-cdd8cf45d52a",
   "metadata": {},
   "outputs": [
    {
     "data": {
      "text/html": [
       "<div>\n",
       "<style scoped>\n",
       "    .dataframe tbody tr th:only-of-type {\n",
       "        vertical-align: middle;\n",
       "    }\n",
       "\n",
       "    .dataframe tbody tr th {\n",
       "        vertical-align: top;\n",
       "    }\n",
       "\n",
       "    .dataframe thead th {\n",
       "        text-align: right;\n",
       "    }\n",
       "</style>\n",
       "<table border=\"1\" class=\"dataframe\">\n",
       "  <thead>\n",
       "    <tr style=\"text-align: right;\">\n",
       "      <th></th>\n",
       "      <th>total_transactions</th>\n",
       "      <th>total_value_eth</th>\n",
       "      <th>eth_per_transaction</th>\n",
       "    </tr>\n",
       "    <tr>\n",
       "      <th>block_date</th>\n",
       "      <th></th>\n",
       "      <th></th>\n",
       "      <th></th>\n",
       "    </tr>\n",
       "  </thead>\n",
       "  <tbody>\n",
       "    <tr>\n",
       "      <th>2021-07-06</th>\n",
       "      <td>1355421</td>\n",
       "      <td>2024807.8928</td>\n",
       "      <td>1.4939</td>\n",
       "    </tr>\n",
       "    <tr>\n",
       "      <th>2022-07-06</th>\n",
       "      <td>1161432</td>\n",
       "      <td>1882904.6394</td>\n",
       "      <td>1.6212</td>\n",
       "    </tr>\n",
       "  </tbody>\n",
       "</table>\n",
       "</div>"
      ],
      "text/plain": [
       "            total_transactions  total_value_eth  eth_per_transaction\n",
       "block_date                                                          \n",
       "2021-07-06             1355421     2024807.8928               1.4939\n",
       "2022-07-06             1161432     1882904.6394               1.6212"
      ]
     },
     "execution_count": 33,
     "metadata": {},
     "output_type": "execute_result"
    }
   ],
   "source": [
    "#collapse\n",
    "df_overall_agg = df.query('block_date.isin([\"2021-07-06\",\"2022-07-06\"])').groupby(['block_date']).agg(total_transactions=('hash','count'),total_value_eth=('eth_value','sum'))\n",
    "df_overall_agg['eth_per_transaction'] = df_overall_agg['total_value_eth']/df_overall_agg['total_transactions']\n",
    "df_overall_agg.groupby(['block_date']).agg({'total_transactions':'sum', 'total_value_eth':'sum', 'eth_per_transaction':'sum'})"
   ]
  },
  {
   "cell_type": "markdown",
   "id": "71e1d069-eb3e-460c-b5fc-81aa1c02d332",
   "metadata": {},
   "source": [
    "What does the above table mean?\n",
    "- From above table, we can see that eventhough there is a 14% **drop** in number of transactions on 6 July 2022 vs 6 July 2021, there is an **increase** of almost 9% in ETH per transaction. As mentioned, this could be due to the lower price of ETH on 6 July 2022.\n",
    "- If we examine a longer period, see the *\"ETH Per Transaction 2022 vs 2021 Last 3 Months\"* chart in this [Dune](https://dune.com/interuniverse/ethereum-transactions-overview) dashboard.\n",
    "    - On 13 June 2022, ETH per transaction was almost 7 compared to 13 July 2021, which was at 1.\n",
    "    - The price of ETH on 13 June 2022, was even lower, at USD$1,208 (AUD$1,726) while on 13 June 2021, was at USD$2,509 (AUD$3,258).\n",
    "\n",
    "[Go to top](https://interuniverse.github.io/scratching-the-surface/2022/07/25/ethereum-txn-eda.html)"
   ]
  }
 ],
 "metadata": {
  "kernelspec": {
   "display_name": "blockchain:Python",
   "language": "python",
   "name": "conda-env-blockchain-py"
  },
  "language_info": {
   "codemirror_mode": {
    "name": "ipython",
    "version": 3
   },
   "file_extension": ".py",
   "mimetype": "text/x-python",
   "name": "python",
   "nbconvert_exporter": "python",
   "pygments_lexer": "ipython3",
   "version": "3.10.4"
  }
 },
 "nbformat": 4,
 "nbformat_minor": 5
}
